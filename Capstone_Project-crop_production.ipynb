{
 "cells": [
  {
   "cell_type": "markdown",
   "id": "da269d37",
   "metadata": {},
   "source": [
    "# Capstone Project - Prediction of crop production \n",
    "###  Problem Statement \n",
    "To predict the crop production in India "
   ]
  },
  {
   "cell_type": "code",
   "execution_count": 1,
   "id": "e3361a41",
   "metadata": {},
   "outputs": [],
   "source": [
    "# import  Basic libraries \n",
    "import pandas as pd # Handling data into DataFrame format\n",
    "import numpy as np # Handling numerical functions\n",
    "import seaborn as sns # Handling Visulization tasks\n",
    "import matplotlib.pyplot as plt # Handling Plots and plot dimensions in notebook\n",
    "import warnings # Clearing Notebook version warnings from the notebook\n",
    "warnings.filterwarnings(\"ignore\") # setting warnings status to be ignored"
   ]
  },
  {
   "cell_type": "code",
   "execution_count": 2,
   "id": "9ffc9cdd",
   "metadata": {},
   "outputs": [],
   "source": [
    "# Read the file from local drive\n",
    "crop = pd.read_csv(r\"C:\\Users\\tejas\\Downloads\\Crop_data.csv\")"
   ]
  },
  {
   "cell_type": "markdown",
   "id": "4261e8bb",
   "metadata": {},
   "source": [
    "### EDA"
   ]
  },
  {
   "cell_type": "code",
   "execution_count": 3,
   "id": "bd295f8b",
   "metadata": {},
   "outputs": [
    {
     "data": {
      "text/html": [
       "<div>\n",
       "<style scoped>\n",
       "    .dataframe tbody tr th:only-of-type {\n",
       "        vertical-align: middle;\n",
       "    }\n",
       "\n",
       "    .dataframe tbody tr th {\n",
       "        vertical-align: top;\n",
       "    }\n",
       "\n",
       "    .dataframe thead th {\n",
       "        text-align: right;\n",
       "    }\n",
       "</style>\n",
       "<table border=\"1\" class=\"dataframe\">\n",
       "  <thead>\n",
       "    <tr style=\"text-align: right;\">\n",
       "      <th></th>\n",
       "      <th>State</th>\n",
       "      <th>District</th>\n",
       "      <th>Crop_Year</th>\n",
       "      <th>Season</th>\n",
       "      <th>Crop</th>\n",
       "      <th>Area</th>\n",
       "      <th>Production</th>\n",
       "    </tr>\n",
       "  </thead>\n",
       "  <tbody>\n",
       "    <tr>\n",
       "      <th>0</th>\n",
       "      <td>Andaman and Nicobar Island</td>\n",
       "      <td>NICOBARS</td>\n",
       "      <td>2007</td>\n",
       "      <td>Kharif</td>\n",
       "      <td>Arecanut</td>\n",
       "      <td>2439.6</td>\n",
       "      <td>3415.0</td>\n",
       "    </tr>\n",
       "    <tr>\n",
       "      <th>1</th>\n",
       "      <td>Andaman and Nicobar Island</td>\n",
       "      <td>NICOBARS</td>\n",
       "      <td>2007</td>\n",
       "      <td>Rabi</td>\n",
       "      <td>Arecanut</td>\n",
       "      <td>1626.4</td>\n",
       "      <td>2277.0</td>\n",
       "    </tr>\n",
       "    <tr>\n",
       "      <th>2</th>\n",
       "      <td>Andaman and Nicobar Island</td>\n",
       "      <td>NICOBARS</td>\n",
       "      <td>2008</td>\n",
       "      <td>Autumn</td>\n",
       "      <td>Arecanut</td>\n",
       "      <td>4147.0</td>\n",
       "      <td>3060.0</td>\n",
       "    </tr>\n",
       "    <tr>\n",
       "      <th>3</th>\n",
       "      <td>Andaman and Nicobar Island</td>\n",
       "      <td>NICOBARS</td>\n",
       "      <td>2008</td>\n",
       "      <td>Summer</td>\n",
       "      <td>Arecanut</td>\n",
       "      <td>4147.0</td>\n",
       "      <td>2660.0</td>\n",
       "    </tr>\n",
       "    <tr>\n",
       "      <th>4</th>\n",
       "      <td>Andaman and Nicobar Island</td>\n",
       "      <td>NICOBARS</td>\n",
       "      <td>2009</td>\n",
       "      <td>Autumn</td>\n",
       "      <td>Arecanut</td>\n",
       "      <td>4153.0</td>\n",
       "      <td>3120.0</td>\n",
       "    </tr>\n",
       "  </tbody>\n",
       "</table>\n",
       "</div>"
      ],
      "text/plain": [
       "                        State District   Crop_Year       Season      Crop  \\\n",
       "0  Andaman and Nicobar Island  NICOBARS       2007  Kharif       Arecanut   \n",
       "1  Andaman and Nicobar Island  NICOBARS       2007  Rabi         Arecanut   \n",
       "2  Andaman and Nicobar Island  NICOBARS       2008  Autumn       Arecanut   \n",
       "3  Andaman and Nicobar Island  NICOBARS       2008  Summer       Arecanut   \n",
       "4  Andaman and Nicobar Island  NICOBARS       2009  Autumn       Arecanut   \n",
       "\n",
       "    Area   Production  \n",
       "0  2439.6      3415.0  \n",
       "1  1626.4      2277.0  \n",
       "2  4147.0      3060.0  \n",
       "3  4147.0      2660.0  \n",
       "4  4153.0      3120.0  "
      ]
     },
     "execution_count": 3,
     "metadata": {},
     "output_type": "execute_result"
    }
   ],
   "source": [
    "# Primary data Inspection \n",
    "crop.head()"
   ]
  },
  {
   "cell_type": "markdown",
   "id": "f599d2dd",
   "metadata": {},
   "source": [
    "### Data fields :\n",
    "* **State_Name** -- Name of the State\n",
    "* **District_Name** -- Name of the District\n",
    "* **Crop_Year** -- The year of production\n",
    "* **Season** -- Current season\n",
    "* **Crop** -- Type of crop\n",
    "* **Area** -- Area of the agricultural field\n",
    "* **Production**(target variable) -- Total crop production"
   ]
  },
  {
   "cell_type": "code",
   "execution_count": 4,
   "id": "cdd891dc",
   "metadata": {},
   "outputs": [
    {
     "data": {
      "text/plain": [
       "(345336, 7)"
      ]
     },
     "execution_count": 4,
     "metadata": {},
     "output_type": "execute_result"
    }
   ],
   "source": [
    "# Check the no of records and fields in dataset\n",
    "crop.shape"
   ]
  },
  {
   "cell_type": "markdown",
   "id": "da405305",
   "metadata": {},
   "source": [
    "* There are 3,45,336 records \n",
    "* There are 7 fields in the dataset"
   ]
  },
  {
   "cell_type": "markdown",
   "id": "7391fc19",
   "metadata": {},
   "source": [
    "#### Null check "
   ]
  },
  {
   "cell_type": "code",
   "execution_count": 5,
   "id": "1b280438",
   "metadata": {},
   "outputs": [
    {
     "data": {
      "text/plain": [
       "State            0\n",
       "District         0\n",
       "Crop_Year        0\n",
       "Season           0\n",
       "Crop             9\n",
       "Area             0\n",
       "Production    4948\n",
       "dtype: int64"
      ]
     },
     "execution_count": 5,
     "metadata": {},
     "output_type": "execute_result"
    }
   ],
   "source": [
    "# checking nulls \n",
    "crop.isnull().sum()"
   ]
  },
  {
   "cell_type": "markdown",
   "id": "d4f8d43d",
   "metadata": {},
   "source": [
    "* There are some nulls in crop and target variable(Production)"
   ]
  },
  {
   "cell_type": "code",
   "execution_count": 6,
   "id": "fc3ba5bd",
   "metadata": {},
   "outputs": [],
   "source": [
    "# dropping nulls \n",
    "crop = crop.dropna()"
   ]
  },
  {
   "cell_type": "code",
   "execution_count": 7,
   "id": "3538e2d8",
   "metadata": {},
   "outputs": [
    {
     "data": {
      "text/plain": [
       "(340383, 7)"
      ]
     },
     "execution_count": 7,
     "metadata": {},
     "output_type": "execute_result"
    }
   ],
   "source": [
    "# checking the shape again to verify if dropna is executed\n",
    "crop.shape"
   ]
  },
  {
   "cell_type": "code",
   "execution_count": 8,
   "id": "4f6d6bfe",
   "metadata": {},
   "outputs": [
    {
     "name": "stdout",
     "output_type": "stream",
     "text": [
      "0\n"
     ]
    }
   ],
   "source": [
    "#Finding the duplicates from dataset\n",
    "print(crop.duplicated().sum())"
   ]
  },
  {
   "cell_type": "markdown",
   "id": "848e85c5",
   "metadata": {},
   "source": [
    "* Thera are no duplicates in the dataset "
   ]
  },
  {
   "cell_type": "code",
   "execution_count": 9,
   "id": "846dcb3b",
   "metadata": {},
   "outputs": [
    {
     "name": "stdout",
     "output_type": "stream",
     "text": [
      "<class 'pandas.core.frame.DataFrame'>\n",
      "Int64Index: 340383 entries, 0 to 345335\n",
      "Data columns (total 7 columns):\n",
      " #   Column      Non-Null Count   Dtype  \n",
      "---  ------      --------------   -----  \n",
      " 0   State       340383 non-null  object \n",
      " 1   District    340383 non-null  object \n",
      " 2   Crop_Year   340383 non-null  int64  \n",
      " 3   Season      340383 non-null  object \n",
      " 4   Crop        340383 non-null  object \n",
      " 5   Area        340383 non-null  float64\n",
      " 6   Production  340383 non-null  float64\n",
      "dtypes: float64(2), int64(1), object(4)\n",
      "memory usage: 20.8+ MB\n"
     ]
    }
   ],
   "source": [
    "# Information about dataset \n",
    "crop.info()"
   ]
  },
  {
   "cell_type": "code",
   "execution_count": 10,
   "id": "3dc66af2",
   "metadata": {},
   "outputs": [
    {
     "data": {
      "text/html": [
       "<div>\n",
       "<style scoped>\n",
       "    .dataframe tbody tr th:only-of-type {\n",
       "        vertical-align: middle;\n",
       "    }\n",
       "\n",
       "    .dataframe tbody tr th {\n",
       "        vertical-align: top;\n",
       "    }\n",
       "\n",
       "    .dataframe thead th {\n",
       "        text-align: right;\n",
       "    }\n",
       "</style>\n",
       "<table border=\"1\" class=\"dataframe\">\n",
       "  <thead>\n",
       "    <tr style=\"text-align: right;\">\n",
       "      <th></th>\n",
       "      <th>Crop_Year</th>\n",
       "      <th>Area</th>\n",
       "      <th>Production</th>\n",
       "    </tr>\n",
       "  </thead>\n",
       "  <tbody>\n",
       "    <tr>\n",
       "      <th>count</th>\n",
       "      <td>340383.000000</td>\n",
       "      <td>3.403830e+05</td>\n",
       "      <td>3.403830e+05</td>\n",
       "    </tr>\n",
       "    <tr>\n",
       "      <th>mean</th>\n",
       "      <td>2008.884815</td>\n",
       "      <td>1.182641e+04</td>\n",
       "      <td>9.584867e+05</td>\n",
       "    </tr>\n",
       "    <tr>\n",
       "      <th>std</th>\n",
       "      <td>6.574730</td>\n",
       "      <td>4.612680e+04</td>\n",
       "      <td>2.153083e+07</td>\n",
       "    </tr>\n",
       "    <tr>\n",
       "      <th>min</th>\n",
       "      <td>1997.000000</td>\n",
       "      <td>8.000000e-03</td>\n",
       "      <td>0.000000e+00</td>\n",
       "    </tr>\n",
       "    <tr>\n",
       "      <th>25%</th>\n",
       "      <td>2003.000000</td>\n",
       "      <td>8.000000e+01</td>\n",
       "      <td>8.700000e+01</td>\n",
       "    </tr>\n",
       "    <tr>\n",
       "      <th>50%</th>\n",
       "      <td>2009.000000</td>\n",
       "      <td>5.630000e+02</td>\n",
       "      <td>7.180000e+02</td>\n",
       "    </tr>\n",
       "    <tr>\n",
       "      <th>75%</th>\n",
       "      <td>2015.000000</td>\n",
       "      <td>4.258000e+03</td>\n",
       "      <td>7.182000e+03</td>\n",
       "    </tr>\n",
       "    <tr>\n",
       "      <th>max</th>\n",
       "      <td>2020.000000</td>\n",
       "      <td>8.580100e+06</td>\n",
       "      <td>1.597800e+09</td>\n",
       "    </tr>\n",
       "  </tbody>\n",
       "</table>\n",
       "</div>"
      ],
      "text/plain": [
       "           Crop_Year         Area     Production\n",
       "count  340383.000000  3.403830e+05  3.403830e+05\n",
       "mean     2008.884815  1.182641e+04  9.584867e+05\n",
       "std         6.574730  4.612680e+04  2.153083e+07\n",
       "min      1997.000000  8.000000e-03  0.000000e+00\n",
       "25%      2003.000000  8.000000e+01  8.700000e+01\n",
       "50%      2009.000000  5.630000e+02  7.180000e+02\n",
       "75%      2015.000000  4.258000e+03  7.182000e+03\n",
       "max      2020.000000  8.580100e+06  1.597800e+09"
      ]
     },
     "execution_count": 10,
     "metadata": {},
     "output_type": "execute_result"
    }
   ],
   "source": [
    "# Description of numeric columns \n",
    "crop.describe()"
   ]
  },
  {
   "cell_type": "markdown",
   "id": "8ba3e438",
   "metadata": {},
   "source": [
    "* The data is for years 1997-2020\n",
    "* The range of area and production is very large "
   ]
  },
  {
   "cell_type": "code",
   "execution_count": 11,
   "id": "6acf431c",
   "metadata": {},
   "outputs": [
    {
     "name": "stdout",
     "output_type": "stream",
     "text": [
      "The no of unique values in State are 37\n",
      "The no of unique values in District  are 707\n",
      "The no of unique values in Crop_Year are 24\n",
      "The no of unique values in Season are 6\n",
      "The no of unique values in Crop are 55\n",
      "The no of unique values in Area  are 47655\n",
      "The no of unique values in Production are 60410\n"
     ]
    }
   ],
   "source": [
    "# finding unique values in each column \n",
    "for col in crop.columns:\n",
    "        n = len(crop[col].unique())\n",
    "        print(\"The no of unique values in {} are {}\".format(col,n))"
   ]
  },
  {
   "cell_type": "code",
   "execution_count": 12,
   "id": "0160824f",
   "metadata": {},
   "outputs": [
    {
     "data": {
      "text/plain": [
       "(array(['Crop_Year', 'Area ', 'Production'], dtype=object),\n",
       " array(['State', 'District ', 'Season', 'Crop'], dtype=object))"
      ]
     },
     "execution_count": 12,
     "metadata": {},
     "output_type": "execute_result"
    }
   ],
   "source": [
    "# splitting into numeric and categorical columns \n",
    "nc = crop.select_dtypes(exclude= 'object').columns.values\n",
    "fc = crop.select_dtypes(include='object').columns.values\n",
    "nc,fc"
   ]
  },
  {
   "cell_type": "markdown",
   "id": "3b4d97ee",
   "metadata": {},
   "source": [
    "#### Multicolinearity check "
   ]
  },
  {
   "cell_type": "code",
   "execution_count": 13,
   "id": "7fe262e4",
   "metadata": {},
   "outputs": [
    {
     "data": {
      "text/plain": [
       "<AxesSubplot:>"
      ]
     },
     "execution_count": 13,
     "metadata": {},
     "output_type": "execute_result"
    },
    {
     "data": {
      "image/png": "[encoded data removed]",
      "text/plain": [
       "<Figure size 720x576 with 2 Axes>"
      ]
     },
     "metadata": {
      "needs_background": "light"
     },
     "output_type": "display_data"
    }
   ],
   "source": [
    "# check for multicolinaerity \n",
    "cor = np.tril(crop[nc].corr())\n",
    "\n",
    "plt.figure(figsize=(10,8))\n",
    "sns.heatmap(cor, annot= True, xticklabels= nc, yticklabels = nc, linewidths = 1 )"
   ]
  },
  {
   "cell_type": "markdown",
   "id": "657ab11c",
   "metadata": {},
   "source": [
    "* There is no multicolinearity in the variables"
   ]
  },
  {
   "cell_type": "markdown",
   "id": "ad2f1132",
   "metadata": {},
   "source": [
    "### Visualization "
   ]
  },
  {
   "cell_type": "markdown",
   "id": "a0640816",
   "metadata": {},
   "source": [
    " #### Overall crop production by state"
   ]
  },
  {
   "cell_type": "code",
   "execution_count": 14,
   "id": "08e5834e",
   "metadata": {},
   "outputs": [
    {
     "data": {
      "image/png": "[encoded data removed]",
      "text/plain": [
       "<Figure size 1080x360 with 1 Axes>"
      ]
     },
     "metadata": {
      "needs_background": "light"
     },
     "output_type": "display_data"
    }
   ],
   "source": [
    "temp = crop.groupby(by='State')['Production'].sum().reset_index().sort_values(by='Production')\n",
    "\n",
    "fig = plt.figure(figsize = (15, 5))\n",
    "sns.barplot(temp['State'],temp['Production'])\n",
    "plt.xticks( rotation='vertical')\n",
    "plt.title(\"Overall crop production by state\")\n",
    "plt.show()"
   ]
  },
  {
   "cell_type": "markdown",
   "id": "9fcbe652",
   "metadata": {},
   "source": [
    "From above graph we can see that :\n",
    "* Kerala is the highest crops producing state overall.  \n",
    "* Top 3 crop producing states are from south India, which put together leave no space to compare rest states.  "
   ]
  },
  {
   "cell_type": "markdown",
   "id": "3eab020e",
   "metadata": {},
   "source": [
    "#### Productivity of different states"
   ]
  },
  {
   "cell_type": "code",
   "execution_count": 15,
   "id": "66294ce4",
   "metadata": {},
   "outputs": [
    {
     "data": {
      "image/png": "[encoded data removed]",
      "text/plain": [
       "<Figure size 1080x360 with 1 Axes>"
      ]
     },
     "metadata": {
      "needs_background": "light"
     },
     "output_type": "display_data"
    }
   ],
   "source": [
    "temp = crop.groupby('State')['Area ', 'Production'].sum().reset_index()\n",
    "temp['Production_Per_Unit_Area'] = temp['Production']/temp['Area ']\n",
    "temp = temp.sort_values(by='Production_Per_Unit_Area')\n",
    "\n",
    "fig = plt.figure(figsize = (15, 5))\n",
    "sns.barplot(temp['State'],temp['Production_Per_Unit_Area'])\n",
    "plt.xticks( rotation='vertical')\n",
    "plt.title(\"Productivity of state\")\n",
    "plt.show()"
   ]
  },
  {
   "cell_type": "markdown",
   "id": "21197d53",
   "metadata": {},
   "source": [
    "Above graph tells us that :\n",
    "* Kerala is the most productive state when we compare in terms of production by area.\n",
    "* We see Andaman and nikobar islands, Puducherry, Goa and many other states which are low in overall production, have high productivity "
   ]
  },
  {
   "cell_type": "markdown",
   "id": "3243a67a",
   "metadata": {},
   "source": [
    "#### Overall production through years"
   ]
  },
  {
   "cell_type": "code",
   "execution_count": 16,
   "id": "520cbf92",
   "metadata": {},
   "outputs": [
    {
     "data": {
      "image/png": "[encoded data removed]",
      "text/plain": [
       "<Figure size 1440x360 with 1 Axes>"
      ]
     },
     "metadata": {
      "needs_background": "light"
     },
     "output_type": "display_data"
    }
   ],
   "source": [
    "temp = crop.groupby(by='Crop_Year')['Production'].sum().reset_index()\n",
    "\n",
    "fig = plt.figure(figsize = (20, 5))\n",
    "sns.lineplot(temp['Crop_Year'],temp['Production'])\n",
    "plt.title(\"Overall production by years\")\n",
    "plt.show()"
   ]
  },
  {
   "cell_type": "markdown",
   "id": "36719c1a",
   "metadata": {},
   "source": [
    "There is no trend in production over the years, this may be due to climatic reasons"
   ]
  },
  {
   "cell_type": "markdown",
   "id": "d7f3a5aa",
   "metadata": {},
   "source": [
    "#### Average Crop Area through years"
   ]
  },
  {
   "cell_type": "code",
   "execution_count": 17,
   "id": "95107492",
   "metadata": {},
   "outputs": [
    {
     "data": {
      "image/png": "[encoded data removed]",
      "text/plain": [
       "<Figure size 1440x360 with 1 Axes>"
      ]
     },
     "metadata": {
      "needs_background": "light"
     },
     "output_type": "display_data"
    }
   ],
   "source": [
    "temp = crop.groupby(by='Crop_Year')['Area '].mean().reset_index()\n",
    "\n",
    "fig = plt.figure(figsize = (20, 5))\n",
    "sns.regplot(temp['Crop_Year'],temp['Area '])\n",
    "plt.title(\"Average crop area by years\")\n",
    "plt.show()"
   ]
  },
  {
   "cell_type": "markdown",
   "id": "c42cdf31",
   "metadata": {},
   "source": [
    "In Above Graph we can see that :\n",
    "* Average Crop Area has decresed over the years.Large dip in area after 1997.\n",
    "* We had the lowest Average Crop area in Years 2002 and 2003. (We have very comparitively very less data of year 2015 so, we'll not consider that)"
   ]
  },
  {
   "cell_type": "markdown",
   "id": "ebf7c452",
   "metadata": {},
   "source": [
    "#### Most and Least crop producing districts"
   ]
  },
  {
   "cell_type": "code",
   "execution_count": 18,
   "id": "1ad1f1aa",
   "metadata": {},
   "outputs": [
    {
     "data": {
      "text/plain": [
       "Text(0.5, 1.0, 'Least crop producing district')"
      ]
     },
     "execution_count": 18,
     "metadata": {},
     "output_type": "execute_result"
    },
    {
     "data": {
      "image/png": "[encoded data removed]",
      "text/plain": [
       "<Figure size 1440x360 with 2 Axes>"
      ]
     },
     "metadata": {
      "needs_background": "light"
     },
     "output_type": "display_data"
    }
   ],
   "source": [
    "temp = crop.groupby(by='District ')['Production'].sum().reset_index().sort_values(by='Production')\n",
    "temp1 = temp.tail()\n",
    "\n",
    "fig = plt.figure(figsize = (20, 5))\n",
    "plt.subplot(1,2,1)\n",
    "sns.barplot(temp1['District '],temp1['Production'])\n",
    "plt.xticks(rotation=90)\n",
    "plt.title(\"Highest crop producing district\")\n",
    "\n",
    "temp2 = temp.head()\n",
    "plt.subplot(1,2,2)\n",
    "sns.barplot(temp2['District '],temp2['Production'])\n",
    "plt.xticks(rotation=90)\n",
    "plt.title(\"Least crop producing district\")"
   ]
  },
  {
   "cell_type": "markdown",
   "id": "321c8f72",
   "metadata": {},
   "source": [
    "#### Overall production and area according to season "
   ]
  },
  {
   "cell_type": "code",
   "execution_count": 19,
   "id": "65688724",
   "metadata": {},
   "outputs": [
    {
     "data": {
      "text/plain": [
       "Text(0.5, 1.0, 'Overall area according to season')"
      ]
     },
     "execution_count": 19,
     "metadata": {},
     "output_type": "execute_result"
    },
    {
     "data": {
      "image/png": "[encoded data removed]",
      "text/plain": [
       "<Figure size 1440x360 with 2 Axes>"
      ]
     },
     "metadata": {
      "needs_background": "light"
     },
     "output_type": "display_data"
    }
   ],
   "source": [
    "temp = crop.groupby(by='Season')['Production'].sum().reset_index().sort_values(by='Production')\n",
    "temp1 = crop.groupby(by='Season')['Area '].sum().reset_index().sort_values(by='Area ')\n",
    "\n",
    "fig = plt.figure(figsize = (20, 5))\n",
    "\n",
    "plt.subplot(1,2,1)\n",
    "sns.barplot(temp[\"Season\"],temp[\"Production\"])\n",
    "plt.title(\"Overall production according to season\")\n",
    "\n",
    "plt.subplot(1,2,2)\n",
    "sns.barplot(temp1[\"Season\"],temp1[\"Area \"])\n",
    "plt.title(\"Overall area according to season\")"
   ]
  },
  {
   "cell_type": "markdown",
   "id": "823d2183",
   "metadata": {},
   "source": [
    "From above graph we can conclude that \n",
    "* whole year has highest production\n",
    "* but kharif has highest area "
   ]
  },
  {
   "cell_type": "markdown",
   "id": "716b551f",
   "metadata": {},
   "source": [
    "#### Crops having highest production and highest area"
   ]
  },
  {
   "cell_type": "code",
   "execution_count": 20,
   "id": "ccff0813",
   "metadata": {},
   "outputs": [
    {
     "data": {
      "text/plain": [
       "Text(0.5, 1.0, 'Crop having highest Area')"
      ]
     },
     "execution_count": 20,
     "metadata": {},
     "output_type": "execute_result"
    },
    {
     "data": {
      "image/png": "[encoded data removed]",
      "text/plain": [
       "<Figure size 1440x360 with 2 Axes>"
      ]
     },
     "metadata": {
      "needs_background": "light"
     },
     "output_type": "display_data"
    }
   ],
   "source": [
    "temp = crop.groupby(by='Crop')['Production'].sum().reset_index().sort_values(by='Production')\n",
    "temp = temp.tail()\n",
    "\n",
    "temp1 = crop.groupby(by='Crop')['Area '].sum().reset_index().sort_values(by='Area ')\n",
    "temp1 = temp1.tail()\n",
    "\n",
    "fig = plt.figure(figsize = (20, 5))\n",
    "\n",
    "plt.subplot(1,2,1)\n",
    "sns.barplot(temp[\"Crop\"],temp[\"Production\"])\n",
    "plt.title(\"Crop having highest production\")\n",
    "\n",
    "plt.subplot(1,2,2)\n",
    "sns.barplot(temp1[\"Crop\"],temp1[\"Area \"])\n",
    "plt.title(\"Crop having highest Area\")"
   ]
  },
  {
   "cell_type": "markdown",
   "id": "c9eb6252",
   "metadata": {},
   "source": [
    "From above graphs we can conclude that \n",
    "* Coconut has highest production \n",
    "* Rice has highest area under production"
   ]
  },
  {
   "cell_type": "markdown",
   "id": "68c15996",
   "metadata": {},
   "source": [
    "### Preprocessing"
   ]
  },
  {
   "cell_type": "code",
   "execution_count": 21,
   "id": "61336862",
   "metadata": {},
   "outputs": [
    {
     "data": {
      "text/plain": [
       "(340383, 6)"
      ]
     },
     "execution_count": 21,
     "metadata": {},
     "output_type": "execute_result"
    }
   ],
   "source": [
    "# dropping district column as districts come under state \n",
    "crop.drop(columns=['District '],axis=1,inplace=True)\n",
    "crop.head()\n",
    "crop.shape"
   ]
  },
  {
   "cell_type": "code",
   "execution_count": 22,
   "id": "85054baa",
   "metadata": {},
   "outputs": [
    {
     "data": {
      "text/plain": [
       "(array(['Crop_Year', 'Area ', 'Production'], dtype=object),\n",
       " array(['State', 'Season', 'Crop'], dtype=object))"
      ]
     },
     "execution_count": 22,
     "metadata": {},
     "output_type": "execute_result"
    }
   ],
   "source": [
    "# splitting into numeric and categorical columns \n",
    "nc = crop.select_dtypes(exclude= 'object').columns.values\n",
    "fc = crop.select_dtypes(include='object').columns.values\n",
    "nc,fc"
   ]
  },
  {
   "cell_type": "markdown",
   "id": "32d2066f",
   "metadata": {},
   "source": [
    "### Machine Learning Models\n",
    "**Basics of Machine Learning :**\n",
    "\n",
    "Classification and Regression are two major prediction problems that are usually dealt with machine learning.\n",
    "\n",
    "**Classification** is the process of finding or discovering a model or function which helps in separating the data into multiple categorical classes i.e. discrete values. In classification, data is categorized under different labels according to some parameters given in input and then the labels are predicted for the data.\n",
    "\n",
    "The derived mapping function could be demonstrated in the form of “IF-THEN” rules. The problems where the data can be divided into binary or multiple discrete labels is classification problem.\n",
    "\n",
    "**Regression** is the process of finding a model or function for distinguishing the data into continuous real values instead of using classes or discrete values. It can also identify the distribution movement depending on the historical data. Because a regression predictive model predicts a quantity, therefore, the skill of the model must be reported as an error in those predictions.\n",
    "\n",
    "> According to this our problem can be identified as a 'Regression' problem\n",
    "\n",
    "**Linear regression**\n",
    "\n",
    "linear regression is useful for finding relationship between continuous variables. One is predictors or independent variables and other is response or dependent variable. It looks for statistical relationship but not deterministic relationship. Relationship between two variables is said to be deterministic if one variable can be accurately expressed by the other.\n",
    "\n",
    "For example, using temperature in degree Celsius it is possible to accurately predict Fahrenheit. Statistical relationship is not accurate in determining relationship between two variables. For example, relationship between height and weight.\n",
    "\n",
    "The core idea is to obtain a line that best fits the data. The best fit line is the one for which total prediction error (all data points) are as small as possible. Error is the distance between the point to the regression line.\n",
    "\n",
    "### Model Preprocessing\n",
    "**Data Encoding**\n",
    "\n",
    "The performance of a machine learning model not only depends on the model and the hyperparameters but also on how we process and feed different types of variables to the model. Since most machine learning models only accept numerical variables, preprocessing the categorical variables becomes a necessary step. We need to convert these categorical variables to numbers such that the model is able to understand and extract valuable information.\n",
    "\n",
    "Categorical variables are usually represented as 'strings' or 'categories' and are finite in number.\n",
    "\n",
    "For encoding categorical data, we have Lable Encoder and One Hot Encoding.\n",
    "\n",
    "> We used One Hot Encoding for transforming categorical data in this project.This encoding called as 'dummy variables'\n",
    "\n",
    "The dummy variable can be created by **pandas.get_dummies()** function."
   ]
  },
  {
   "cell_type": "code",
   "execution_count": 23,
   "id": "1a752a27",
   "metadata": {},
   "outputs": [
    {
     "name": "stdout",
     "output_type": "stream",
     "text": [
      "Index(['State', 'Crop_Year', 'Season', 'Crop', 'Area ', 'Production',\n",
      "       'State_Andhra Pradesh', 'State_Arunachal Pradesh', 'State_Assam',\n",
      "       'State_Bihar',\n",
      "       ...\n",
      "       'Crop_Soyabean', 'Crop_Sugarcane', 'Crop_Sunflower',\n",
      "       'Crop_Sweet potato', 'Crop_Tapioca', 'Crop_Tobacco', 'Crop_Turmeric',\n",
      "       'Crop_Urad', 'Crop_Wheat', 'Crop_other oilseeds'],\n",
      "      dtype='object', length=101)\n"
     ]
    }
   ],
   "source": [
    "# create dummy variables \n",
    "crop_new = crop.copy()\n",
    "\n",
    "for c in fc:\n",
    "    dummy = pd.get_dummies(crop_new[c],drop_first= True, prefix= c)\n",
    "    crop_new = crop_new.join(dummy)\n",
    "print(crop_new.columns)"
   ]
  },
  {
   "cell_type": "code",
   "execution_count": 24,
   "id": "96dec58e",
   "metadata": {},
   "outputs": [
    {
     "data": {
      "text/plain": [
       "Index(['Crop_Year', 'Area ', 'Production', 'State_Andhra Pradesh',\n",
       "       'State_Arunachal Pradesh', 'State_Assam', 'State_Bihar',\n",
       "       'State_CHANDIGARH', 'State_Chhattisgarh',\n",
       "       'State_Dadra and Nagar Haveli', 'State_Daman and Diu', 'State_Delhi',\n",
       "       'State_Goa', 'State_Gujarat', 'State_Haryana', 'State_Himachal Pradesh',\n",
       "       'State_Jammu and Kashmir', 'State_Jharkhand', 'State_Karnataka',\n",
       "       'State_Kerala', 'State_Laddak', 'State_Madhya Pradesh',\n",
       "       'State_Maharashtra', 'State_Manipur', 'State_Meghalaya',\n",
       "       'State_Mizoram', 'State_Nagaland', 'State_Odisha', 'State_Puducherry',\n",
       "       'State_Punjab', 'State_Rajasthan', 'State_Sikkim',\n",
       "       'State_THE DADRA AND NAGAR HAVELI', 'State_Tamil Nadu',\n",
       "       'State_Telangana', 'State_Tripura', 'State_Uttar Pradesh',\n",
       "       'State_Uttarakhand', 'State_West Bengal', 'Season_Kharif     ',\n",
       "       'Season_Rabi       ', 'Season_Summer     ', 'Season_Whole Year ',\n",
       "       'Season_Winter     ', 'Crop_Arhar/Tur', 'Crop_Bajra', 'Crop_Banana',\n",
       "       'Crop_Barley', 'Crop_Black pepper', 'Crop_Cardamom', 'Crop_Cashewnut',\n",
       "       'Crop_Castor seed', 'Crop_Coconut ', 'Crop_Coriander',\n",
       "       'Crop_Cotton(lint)', 'Crop_Cowpea(Lobia)', 'Crop_Dry chillies',\n",
       "       'Crop_Garlic', 'Crop_Ginger', 'Crop_Gram', 'Crop_Groundnut',\n",
       "       'Crop_Guar seed', 'Crop_Horse-gram', 'Crop_Jowar', 'Crop_Jute',\n",
       "       'Crop_Khesari', 'Crop_Linseed', 'Crop_Maize', 'Crop_Masoor',\n",
       "       'Crop_Mesta', 'Crop_Moong(Green Gram)', 'Crop_Moth', 'Crop_Niger seed',\n",
       "       'Crop_Oilseeds total', 'Crop_Onion', 'Crop_Other  Rabi pulses',\n",
       "       'Crop_Other Cereals', 'Crop_Other Kharif pulses',\n",
       "       'Crop_Other Summer Pulses', 'Crop_Peas & beans (Pulses)', 'Crop_Potato',\n",
       "       'Crop_Ragi', 'Crop_Rapeseed &Mustard', 'Crop_Rice', 'Crop_Safflower',\n",
       "       'Crop_Sannhamp', 'Crop_Sesamum', 'Crop_Small millets', 'Crop_Soyabean',\n",
       "       'Crop_Sugarcane', 'Crop_Sunflower', 'Crop_Sweet potato', 'Crop_Tapioca',\n",
       "       'Crop_Tobacco', 'Crop_Turmeric', 'Crop_Urad', 'Crop_Wheat',\n",
       "       'Crop_other oilseeds'],\n",
       "      dtype='object')"
      ]
     },
     "execution_count": 24,
     "metadata": {},
     "output_type": "execute_result"
    }
   ],
   "source": [
    "# remove old factor variables \n",
    "crop_new.drop(columns=fc, inplace = True)\n",
    "crop_new.columns"
   ]
  },
  {
   "cell_type": "code",
   "execution_count": 25,
   "id": "17ecd1f4",
   "metadata": {},
   "outputs": [
    {
     "data": {
      "text/html": [
       "<div>\n",
       "<style scoped>\n",
       "    .dataframe tbody tr th:only-of-type {\n",
       "        vertical-align: middle;\n",
       "    }\n",
       "\n",
       "    .dataframe tbody tr th {\n",
       "        vertical-align: top;\n",
       "    }\n",
       "\n",
       "    .dataframe thead th {\n",
       "        text-align: right;\n",
       "    }\n",
       "</style>\n",
       "<table border=\"1\" class=\"dataframe\">\n",
       "  <thead>\n",
       "    <tr style=\"text-align: right;\">\n",
       "      <th></th>\n",
       "      <th>Crop_Year</th>\n",
       "      <th>Area</th>\n",
       "      <th>Production</th>\n",
       "      <th>State_Andhra Pradesh</th>\n",
       "      <th>State_Arunachal Pradesh</th>\n",
       "      <th>State_Assam</th>\n",
       "      <th>State_Bihar</th>\n",
       "      <th>State_CHANDIGARH</th>\n",
       "      <th>State_Chhattisgarh</th>\n",
       "      <th>State_Dadra and Nagar Haveli</th>\n",
       "      <th>...</th>\n",
       "      <th>Crop_Soyabean</th>\n",
       "      <th>Crop_Sugarcane</th>\n",
       "      <th>Crop_Sunflower</th>\n",
       "      <th>Crop_Sweet potato</th>\n",
       "      <th>Crop_Tapioca</th>\n",
       "      <th>Crop_Tobacco</th>\n",
       "      <th>Crop_Turmeric</th>\n",
       "      <th>Crop_Urad</th>\n",
       "      <th>Crop_Wheat</th>\n",
       "      <th>Crop_other oilseeds</th>\n",
       "    </tr>\n",
       "  </thead>\n",
       "  <tbody>\n",
       "    <tr>\n",
       "      <th>0</th>\n",
       "      <td>2007</td>\n",
       "      <td>2439.6</td>\n",
       "      <td>3415.0</td>\n",
       "      <td>0</td>\n",
       "      <td>0</td>\n",
       "      <td>0</td>\n",
       "      <td>0</td>\n",
       "      <td>0</td>\n",
       "      <td>0</td>\n",
       "      <td>0</td>\n",
       "      <td>...</td>\n",
       "      <td>0</td>\n",
       "      <td>0</td>\n",
       "      <td>0</td>\n",
       "      <td>0</td>\n",
       "      <td>0</td>\n",
       "      <td>0</td>\n",
       "      <td>0</td>\n",
       "      <td>0</td>\n",
       "      <td>0</td>\n",
       "      <td>0</td>\n",
       "    </tr>\n",
       "    <tr>\n",
       "      <th>1</th>\n",
       "      <td>2007</td>\n",
       "      <td>1626.4</td>\n",
       "      <td>2277.0</td>\n",
       "      <td>0</td>\n",
       "      <td>0</td>\n",
       "      <td>0</td>\n",
       "      <td>0</td>\n",
       "      <td>0</td>\n",
       "      <td>0</td>\n",
       "      <td>0</td>\n",
       "      <td>...</td>\n",
       "      <td>0</td>\n",
       "      <td>0</td>\n",
       "      <td>0</td>\n",
       "      <td>0</td>\n",
       "      <td>0</td>\n",
       "      <td>0</td>\n",
       "      <td>0</td>\n",
       "      <td>0</td>\n",
       "      <td>0</td>\n",
       "      <td>0</td>\n",
       "    </tr>\n",
       "    <tr>\n",
       "      <th>2</th>\n",
       "      <td>2008</td>\n",
       "      <td>4147.0</td>\n",
       "      <td>3060.0</td>\n",
       "      <td>0</td>\n",
       "      <td>0</td>\n",
       "      <td>0</td>\n",
       "      <td>0</td>\n",
       "      <td>0</td>\n",
       "      <td>0</td>\n",
       "      <td>0</td>\n",
       "      <td>...</td>\n",
       "      <td>0</td>\n",
       "      <td>0</td>\n",
       "      <td>0</td>\n",
       "      <td>0</td>\n",
       "      <td>0</td>\n",
       "      <td>0</td>\n",
       "      <td>0</td>\n",
       "      <td>0</td>\n",
       "      <td>0</td>\n",
       "      <td>0</td>\n",
       "    </tr>\n",
       "    <tr>\n",
       "      <th>3</th>\n",
       "      <td>2008</td>\n",
       "      <td>4147.0</td>\n",
       "      <td>2660.0</td>\n",
       "      <td>0</td>\n",
       "      <td>0</td>\n",
       "      <td>0</td>\n",
       "      <td>0</td>\n",
       "      <td>0</td>\n",
       "      <td>0</td>\n",
       "      <td>0</td>\n",
       "      <td>...</td>\n",
       "      <td>0</td>\n",
       "      <td>0</td>\n",
       "      <td>0</td>\n",
       "      <td>0</td>\n",
       "      <td>0</td>\n",
       "      <td>0</td>\n",
       "      <td>0</td>\n",
       "      <td>0</td>\n",
       "      <td>0</td>\n",
       "      <td>0</td>\n",
       "    </tr>\n",
       "    <tr>\n",
       "      <th>4</th>\n",
       "      <td>2009</td>\n",
       "      <td>4153.0</td>\n",
       "      <td>3120.0</td>\n",
       "      <td>0</td>\n",
       "      <td>0</td>\n",
       "      <td>0</td>\n",
       "      <td>0</td>\n",
       "      <td>0</td>\n",
       "      <td>0</td>\n",
       "      <td>0</td>\n",
       "      <td>...</td>\n",
       "      <td>0</td>\n",
       "      <td>0</td>\n",
       "      <td>0</td>\n",
       "      <td>0</td>\n",
       "      <td>0</td>\n",
       "      <td>0</td>\n",
       "      <td>0</td>\n",
       "      <td>0</td>\n",
       "      <td>0</td>\n",
       "      <td>0</td>\n",
       "    </tr>\n",
       "  </tbody>\n",
       "</table>\n",
       "<p>5 rows × 98 columns</p>\n",
       "</div>"
      ],
      "text/plain": [
       "   Crop_Year   Area   Production  State_Andhra Pradesh  \\\n",
       "0       2007  2439.6      3415.0                     0   \n",
       "1       2007  1626.4      2277.0                     0   \n",
       "2       2008  4147.0      3060.0                     0   \n",
       "3       2008  4147.0      2660.0                     0   \n",
       "4       2009  4153.0      3120.0                     0   \n",
       "\n",
       "   State_Arunachal Pradesh  State_Assam  State_Bihar  State_CHANDIGARH  \\\n",
       "0                        0            0            0                 0   \n",
       "1                        0            0            0                 0   \n",
       "2                        0            0            0                 0   \n",
       "3                        0            0            0                 0   \n",
       "4                        0            0            0                 0   \n",
       "\n",
       "   State_Chhattisgarh  State_Dadra and Nagar Haveli  ...  Crop_Soyabean  \\\n",
       "0                   0                             0  ...              0   \n",
       "1                   0                             0  ...              0   \n",
       "2                   0                             0  ...              0   \n",
       "3                   0                             0  ...              0   \n",
       "4                   0                             0  ...              0   \n",
       "\n",
       "   Crop_Sugarcane  Crop_Sunflower  Crop_Sweet potato  Crop_Tapioca  \\\n",
       "0               0               0                  0             0   \n",
       "1               0               0                  0             0   \n",
       "2               0               0                  0             0   \n",
       "3               0               0                  0             0   \n",
       "4               0               0                  0             0   \n",
       "\n",
       "   Crop_Tobacco  Crop_Turmeric  Crop_Urad  Crop_Wheat  Crop_other oilseeds  \n",
       "0             0              0          0           0                    0  \n",
       "1             0              0          0           0                    0  \n",
       "2             0              0          0           0                    0  \n",
       "3             0              0          0           0                    0  \n",
       "4             0              0          0           0                    0  \n",
       "\n",
       "[5 rows x 98 columns]"
      ]
     },
     "execution_count": 25,
     "metadata": {},
     "output_type": "execute_result"
    }
   ],
   "source": [
    "crop_new.head()"
   ]
  },
  {
   "cell_type": "markdown",
   "id": "b3e90f1f",
   "metadata": {},
   "source": [
    "### Train test split \n",
    "\n",
    "The train-test split procedure is used to estimate the performance of machine learning algorithms when they are used to make predictions on data not used to train the model.\n",
    "\n",
    "It is a fast and easy procedure to perform, the results of which allow you to compare the performance of machine learning algorithms for your predictive modeling problem.\n",
    "\n",
    "The train-test split is a technique for evaluating the performance of a machine learning algorithm.\n",
    "\n",
    "It can be used for classification or regression problems and can be used for any supervised learning algorithm.\n",
    "\n",
    "The procedure involves taking a dataset and dividing it into two subsets. The first subset is used to fit the model and is referred to as the training dataset. The second subset is not used to train the model; instead, the input element of the dataset is provided to the model, then predictions are made and compared to the expected values. This second dataset is referred to as the test dataset.\n",
    "\n",
    "* Train Dataset : Used to fit the machine learning model.\n",
    "* Test Dataset : Used to evaluate the fit machine learning model.\n",
    "\n",
    "The objective is to estimate the performance of the machine learning model on new data: data not used to train the model.\n",
    "\n",
    "This is how we expect to use the model in practice. Namely, to fit it on available data with known inputs and outputs, then make predictions on new examples in the future where we do not have the expected output or target values.\n",
    "\n",
    "The train-test procedure is appropriate when there is a sufficiently large dataset available."
   ]
  },
  {
   "cell_type": "code",
   "execution_count": 26,
   "id": "43eaffd5",
   "metadata": {},
   "outputs": [],
   "source": [
    "from sklearn.model_selection import train_test_split"
   ]
  },
  {
   "cell_type": "code",
   "execution_count": 27,
   "id": "c8fde645",
   "metadata": {},
   "outputs": [],
   "source": [
    "# function to split data into train and test \n",
    "def splitdata(data,y, ratio= 0.3):\n",
    "    trainx, testx, trainy, testy = train_test_split(data.drop(y,1),\n",
    "                                                    data[y],\n",
    "                                                    test_size = ratio,random_state=123)\n",
    "    return(trainx, testx, trainy, testy)"
   ]
  },
  {
   "cell_type": "code",
   "execution_count": 28,
   "id": "43e4b0dd",
   "metadata": {},
   "outputs": [],
   "source": [
    "# splitting data into train and test \n",
    "trainx, testx, trainy,testy = splitdata(crop_new, 'Production')"
   ]
  },
  {
   "cell_type": "code",
   "execution_count": 29,
   "id": "cf7759d2",
   "metadata": {},
   "outputs": [
    {
     "name": "stdout",
     "output_type": "stream",
     "text": [
      "trainx : (238268, 97)\n",
      "trainy : (238268,)\n",
      "testx : (102115, 97)\n",
      "testy : (102115,)\n"
     ]
    }
   ],
   "source": [
    "print(\"trainx :\",trainx.shape)\n",
    "print(\"trainy :\",trainy.shape)\n",
    "\n",
    "print(\"testx :\",testx.shape)\n",
    "print(\"testy :\",testy.shape)"
   ]
  },
  {
   "cell_type": "markdown",
   "id": "7b17de9b",
   "metadata": {},
   "source": [
    "### Model1: Linear regression "
   ]
  },
  {
   "cell_type": "code",
   "execution_count": 30,
   "id": "8e232341",
   "metadata": {},
   "outputs": [],
   "source": [
    "from sklearn.linear_model import LinearRegression"
   ]
  },
  {
   "cell_type": "code",
   "execution_count": 31,
   "id": "2b786474",
   "metadata": {},
   "outputs": [
    {
     "data": {
      "text/plain": [
       "LinearRegression()"
      ]
     },
     "execution_count": 31,
     "metadata": {},
     "output_type": "execute_result"
    }
   ],
   "source": [
    "# model building\n",
    "model1 = LinearRegression()\n",
    "model1.fit(trainx,trainy)"
   ]
  },
  {
   "cell_type": "code",
   "execution_count": 32,
   "id": "baf8f86a",
   "metadata": {},
   "outputs": [],
   "source": [
    "# predictions \n",
    "pred1 = model1.predict(testx)"
   ]
  },
  {
   "cell_type": "code",
   "execution_count": 33,
   "id": "a1a38ba0",
   "metadata": {},
   "outputs": [],
   "source": [
    "from sklearn.metrics import mean_squared_error, r2_score"
   ]
  },
  {
   "cell_type": "code",
   "execution_count": 34,
   "id": "94256bf8",
   "metadata": {},
   "outputs": [
    {
     "name": "stdout",
     "output_type": "stream",
     "text": [
      "model 1 \n",
      "\tmse = 378303509744522.06, \n",
      "\trmse = 19450025.96, \n",
      "\tr2_score= 0.22658085505701808\n"
     ]
    }
   ],
   "source": [
    "# Evaluation \n",
    "mse1 = mean_squared_error(testy,pred1)\n",
    "r = r2_score(testy,pred1)\n",
    "print(\"model 1 \\n\\tmse = {}, \\n\\trmse = {}, \\n\\tr2_score= {}\".format(round(mse1,2),round(np.sqrt(mse1),2),r))"
   ]
  },
  {
   "cell_type": "code",
   "execution_count": 35,
   "id": "f326896f",
   "metadata": {},
   "outputs": [
    {
     "data": {
      "text/plain": [
       "<AxesSubplot:xlabel='Production', ylabel='Density'>"
      ]
     },
     "execution_count": 35,
     "metadata": {},
     "output_type": "execute_result"
    },
    {
     "data": {
      "image/png": "[encoded data removed]",
      "text/plain": [
       "<Figure size 432x288 with 1 Axes>"
      ]
     },
     "metadata": {
      "needs_background": "light"
     },
     "output_type": "display_data"
    }
   ],
   "source": [
    "# chart that shows actual and predicted values- distplot\n",
    "ax1= sns.distplot(testy, hist = False, color = 'red', label = 'actual')\n",
    "sns.distplot(pred1, hist= False,color = 'blue',label = 'predicted', ax= ax1 )"
   ]
  },
  {
   "cell_type": "code",
   "execution_count": 36,
   "id": "ec29e665",
   "metadata": {},
   "outputs": [
    {
     "data": {
      "text/plain": [
       "<AxesSubplot:xlabel='Production'>"
      ]
     },
     "execution_count": 36,
     "metadata": {},
     "output_type": "execute_result"
    },
    {
     "data": {
      "image/png": "[encoded data removed]",
      "text/plain": [
       "<Figure size 864x576 with 1 Axes>"
      ]
     },
     "metadata": {
      "needs_background": "light"
     },
     "output_type": "display_data"
    }
   ],
   "source": [
    "# regplot\n",
    "plt.figure(figsize= (12,8))\n",
    "sns.regplot(testy, pred1, marker= \".\", color= \"yellow\", line_kws= {'color':'red'})"
   ]
  },
  {
   "cell_type": "markdown",
   "id": "21edc225",
   "metadata": {},
   "source": [
    "This is clearly not a linear regression problem, Lets try other regression algorithms "
   ]
  },
  {
   "cell_type": "markdown",
   "id": "17d641e9",
   "metadata": {},
   "source": [
    "### Model2: Decision Tree Regressor \n",
    "This tree count isolates the collected information into small subsets, at a comparative same time makes it persistent. The last results show the tree having the decision centres, likewise, the leaf centres. This decision centre point may contain two branches at any rate. At first think about the whole informational index as root. Feature regards are kicked out of the chance. In case the characteristics are relentless then they have to be discretized before structuring the model. In view of estimation property records are corrected recursively.Information Gain and Gini index are two essential properties in the decision of tree computation. Information Gain is defined as the amount change in entropy. Higher entropy indicates more effectiveness of the substance. Thus the entropy is a proportion of vulnerability of arbitrary variable. Gini Index measures how regularly an arbitrarily picked component would be falsely recognized. It implies a characteristic with a lower Gini index ought to be liked.  \n",
    "Having a class with the maximum number of an expected value obtained by the split function called information gain. If the class is kept splitting and splitting without any condition at the leaf node, the algorithm will be huge, slow and over fitted. To stop this, a minimum count on the training example on the leaf node is assigned."
   ]
  },
  {
   "cell_type": "code",
   "execution_count": 37,
   "id": "3aa700a0",
   "metadata": {},
   "outputs": [],
   "source": [
    "from sklearn.tree import DecisionTreeRegressor "
   ]
  },
  {
   "cell_type": "code",
   "execution_count": 38,
   "id": "4180696f",
   "metadata": {},
   "outputs": [
    {
     "name": "stdout",
     "output_type": "stream",
     "text": [
      "model Decission Tree Regressor \n",
      "\tmse = 37374535242134.4, \n",
      "\trmse = 6113471.62, \n",
      "\tr2_score= 0.9235899738040125\n"
     ]
    }
   ],
   "source": [
    "# model building\n",
    "model2 = DecisionTreeRegressor()\n",
    "model2.fit(trainx,trainy)\n",
    "\n",
    "# predictions \n",
    "pred2 = model2.predict(testx)\n",
    "\n",
    "# Evaluation\n",
    "mse2 = mean_squared_error(testy,pred2)\n",
    "r2= r2_score(testy,pred2)\n",
    "print(\"model Decission Tree Regressor \\n\\tmse = {}, \\n\\trmse = {}, \\n\\tr2_score= {}\".format(round(mse2,2),round(np.sqrt(mse2),2),r2))"
   ]
  },
  {
   "cell_type": "code",
   "execution_count": 39,
   "id": "fa5ce97e",
   "metadata": {},
   "outputs": [
    {
     "data": {
      "text/plain": [
       "<AxesSubplot:xlabel='Production'>"
      ]
     },
     "execution_count": 39,
     "metadata": {},
     "output_type": "execute_result"
    },
    {
     "data": {
      "image/png": "[encoded data removed]",
      "text/plain": [
       "<Figure size 864x576 with 1 Axes>"
      ]
     },
     "metadata": {
      "needs_background": "light"
     },
     "output_type": "display_data"
    }
   ],
   "source": [
    "# chart that shows actual and predicted values- regplot\n",
    "plt.figure(figsize= (12,8))\n",
    "sns.regplot(testy, pred2, marker= \".\", color= \"green\", line_kws= {'color':'red'})"
   ]
  },
  {
   "cell_type": "code",
   "execution_count": 40,
   "id": "48b9a183",
   "metadata": {},
   "outputs": [
    {
     "data": {
      "text/html": [
       "<div>\n",
       "<style scoped>\n",
       "    .dataframe tbody tr th:only-of-type {\n",
       "        vertical-align: middle;\n",
       "    }\n",
       "\n",
       "    .dataframe tbody tr th {\n",
       "        vertical-align: top;\n",
       "    }\n",
       "\n",
       "    .dataframe thead th {\n",
       "        text-align: right;\n",
       "    }\n",
       "</style>\n",
       "<table border=\"1\" class=\"dataframe\">\n",
       "  <thead>\n",
       "    <tr style=\"text-align: right;\">\n",
       "      <th></th>\n",
       "      <th>actual</th>\n",
       "      <th>predicted</th>\n",
       "    </tr>\n",
       "  </thead>\n",
       "  <tbody>\n",
       "    <tr>\n",
       "      <th>120685</th>\n",
       "      <td>1.452725e+09</td>\n",
       "      <td>1.305171e+09</td>\n",
       "    </tr>\n",
       "    <tr>\n",
       "      <th>258837</th>\n",
       "      <td>1.401300e+09</td>\n",
       "      <td>5.879000e+08</td>\n",
       "    </tr>\n",
       "    <tr>\n",
       "      <th>120677</th>\n",
       "      <td>1.351758e+09</td>\n",
       "      <td>1.347700e+09</td>\n",
       "    </tr>\n",
       "    <tr>\n",
       "      <th>120681</th>\n",
       "      <td>1.264153e+09</td>\n",
       "      <td>1.283692e+09</td>\n",
       "    </tr>\n",
       "    <tr>\n",
       "      <th>258834</th>\n",
       "      <td>1.250800e+09</td>\n",
       "      <td>5.879000e+08</td>\n",
       "    </tr>\n",
       "    <tr>\n",
       "      <th>258835</th>\n",
       "      <td>1.212000e+09</td>\n",
       "      <td>5.879000e+08</td>\n",
       "    </tr>\n",
       "    <tr>\n",
       "      <th>258833</th>\n",
       "      <td>1.150800e+09</td>\n",
       "      <td>1.240600e+09</td>\n",
       "    </tr>\n",
       "    <tr>\n",
       "      <th>146195</th>\n",
       "      <td>1.125000e+09</td>\n",
       "      <td>1.046000e+09</td>\n",
       "    </tr>\n",
       "    <tr>\n",
       "      <th>146175</th>\n",
       "      <td>9.750000e+08</td>\n",
       "      <td>1.001000e+09</td>\n",
       "    </tr>\n",
       "    <tr>\n",
       "      <th>146196</th>\n",
       "      <td>9.350000e+08</td>\n",
       "      <td>9.520000e+08</td>\n",
       "    </tr>\n",
       "    <tr>\n",
       "      <th>146197</th>\n",
       "      <td>9.330000e+08</td>\n",
       "      <td>1.046000e+09</td>\n",
       "    </tr>\n",
       "    <tr>\n",
       "      <th>146157</th>\n",
       "      <td>9.290000e+08</td>\n",
       "      <td>6.340000e+08</td>\n",
       "    </tr>\n",
       "    <tr>\n",
       "      <th>258828</th>\n",
       "      <td>9.242000e+08</td>\n",
       "      <td>6.902000e+08</td>\n",
       "    </tr>\n",
       "    <tr>\n",
       "      <th>146201</th>\n",
       "      <td>9.120000e+08</td>\n",
       "      <td>7.780000e+08</td>\n",
       "    </tr>\n",
       "    <tr>\n",
       "      <th>146163</th>\n",
       "      <td>8.980000e+08</td>\n",
       "      <td>8.540000e+08</td>\n",
       "    </tr>\n",
       "    <tr>\n",
       "      <th>146172</th>\n",
       "      <td>8.820000e+08</td>\n",
       "      <td>9.467810e+08</td>\n",
       "    </tr>\n",
       "    <tr>\n",
       "      <th>146188</th>\n",
       "      <td>8.630000e+08</td>\n",
       "      <td>9.000000e+08</td>\n",
       "    </tr>\n",
       "    <tr>\n",
       "      <th>258836</th>\n",
       "      <td>8.598000e+08</td>\n",
       "      <td>5.879000e+08</td>\n",
       "    </tr>\n",
       "    <tr>\n",
       "      <th>146171</th>\n",
       "      <td>8.520090e+08</td>\n",
       "      <td>9.467810e+08</td>\n",
       "    </tr>\n",
       "    <tr>\n",
       "      <th>146167</th>\n",
       "      <td>8.510000e+08</td>\n",
       "      <td>8.880000e+08</td>\n",
       "    </tr>\n",
       "    <tr>\n",
       "      <th>146176</th>\n",
       "      <td>8.370000e+08</td>\n",
       "      <td>8.780000e+08</td>\n",
       "    </tr>\n",
       "    <tr>\n",
       "      <th>146177</th>\n",
       "      <td>8.150000e+08</td>\n",
       "      <td>8.550000e+08</td>\n",
       "    </tr>\n",
       "    <tr>\n",
       "      <th>146182</th>\n",
       "      <td>7.170000e+08</td>\n",
       "      <td>1.059000e+09</td>\n",
       "    </tr>\n",
       "    <tr>\n",
       "      <th>146105</th>\n",
       "      <td>7.050000e+08</td>\n",
       "      <td>6.190000e+08</td>\n",
       "    </tr>\n",
       "    <tr>\n",
       "      <th>2986</th>\n",
       "      <td>6.969000e+08</td>\n",
       "      <td>7.371540e+08</td>\n",
       "    </tr>\n",
       "    <tr>\n",
       "      <th>3229</th>\n",
       "      <td>6.941640e+08</td>\n",
       "      <td>3.477000e+08</td>\n",
       "    </tr>\n",
       "    <tr>\n",
       "      <th>2973</th>\n",
       "      <td>6.859437e+08</td>\n",
       "      <td>6.741257e+08</td>\n",
       "    </tr>\n",
       "    <tr>\n",
       "      <th>120673</th>\n",
       "      <td>6.837650e+08</td>\n",
       "      <td>6.194160e+08</td>\n",
       "    </tr>\n",
       "    <tr>\n",
       "      <th>2974</th>\n",
       "      <td>6.831715e+08</td>\n",
       "      <td>6.741257e+08</td>\n",
       "    </tr>\n",
       "    <tr>\n",
       "      <th>259217</th>\n",
       "      <td>6.757000e+08</td>\n",
       "      <td>4.005000e+08</td>\n",
       "    </tr>\n",
       "  </tbody>\n",
       "</table>\n",
       "</div>"
      ],
      "text/plain": [
       "              actual     predicted\n",
       "120685  1.452725e+09  1.305171e+09\n",
       "258837  1.401300e+09  5.879000e+08\n",
       "120677  1.351758e+09  1.347700e+09\n",
       "120681  1.264153e+09  1.283692e+09\n",
       "258834  1.250800e+09  5.879000e+08\n",
       "258835  1.212000e+09  5.879000e+08\n",
       "258833  1.150800e+09  1.240600e+09\n",
       "146195  1.125000e+09  1.046000e+09\n",
       "146175  9.750000e+08  1.001000e+09\n",
       "146196  9.350000e+08  9.520000e+08\n",
       "146197  9.330000e+08  1.046000e+09\n",
       "146157  9.290000e+08  6.340000e+08\n",
       "258828  9.242000e+08  6.902000e+08\n",
       "146201  9.120000e+08  7.780000e+08\n",
       "146163  8.980000e+08  8.540000e+08\n",
       "146172  8.820000e+08  9.467810e+08\n",
       "146188  8.630000e+08  9.000000e+08\n",
       "258836  8.598000e+08  5.879000e+08\n",
       "146171  8.520090e+08  9.467810e+08\n",
       "146167  8.510000e+08  8.880000e+08\n",
       "146176  8.370000e+08  8.780000e+08\n",
       "146177  8.150000e+08  8.550000e+08\n",
       "146182  7.170000e+08  1.059000e+09\n",
       "146105  7.050000e+08  6.190000e+08\n",
       "2986    6.969000e+08  7.371540e+08\n",
       "3229    6.941640e+08  3.477000e+08\n",
       "2973    6.859437e+08  6.741257e+08\n",
       "120673  6.837650e+08  6.194160e+08\n",
       "2974    6.831715e+08  6.741257e+08\n",
       "259217  6.757000e+08  4.005000e+08"
      ]
     },
     "execution_count": 40,
     "metadata": {},
     "output_type": "execute_result"
    }
   ],
   "source": [
    "# store results in dataframe for analysis\n",
    "df1 = pd.DataFrame({\"actual\":testy, \"predicted\":pred2})\n",
    "df1.sort_values(by='actual',ascending=False).head(30)"
   ]
  },
  {
   "cell_type": "markdown",
   "id": "cd5541f4",
   "metadata": {},
   "source": [
    "### Ensemble Models\n",
    "Ensemble learning is a general meta approach to machine learning that seeks better predictive performance by combining the predictions from multiple models.\n",
    "\n",
    "Although there are a seemingly unlimited number of ensembles that you can develop for your predictive modeling problem, there are three methods that dominate the field of ensemble learning.each is a field of study that has spawned many more specialized methods.\n",
    "\n",
    "The three main classes of ensemble learning methods are bagging, stacking, and boosting, and it is important to both have a detailed understanding of each method and to consider them on your predictive modeling project.\n",
    "\n",
    "* **Bagging** involves fitting many decision trees on different samples of the same dataset and averaging the predictions.\n",
    "* **Stacking** involves fitting many different models types on the same data and using another model to learn how to best combine the predictions.\n",
    "* **Boosting** involves adding ensemble members sequentially that correct the predictions made by prior models and outputs a weighted average of the predictions.\n",
    "\n",
    "Some of the Ensemble models I used are :\n",
    "\n",
    "* Random Forest Regressor\n",
    "* AdaBoost Regressor\n",
    "* Gradient Boosting Regressor\n",
    "* XGBoost\n",
    "I Compare this all model to find the perfect model giving good performance on data.\n",
    "\n",
    "### Model 3 : Random Forest Regressor\n",
    "Random Forest is an ensemble learning technique where training model uses multiple learning algorithms and then combine individual results to get a final predicted result.Under ensemble learning random forest falls into bagging category where random number of features and records will be selected and passed to the group of models. Random forest basically uses group of decision trees as group of models.Random amount of data is passed to decision trees and each decision tree predicts values according to the dataset given to it. From the predictions made by the decision trees the average value of the predicted values if considered as the output of the random forest model."
   ]
  },
  {
   "cell_type": "code",
   "execution_count": 41,
   "id": "8ae925dd",
   "metadata": {},
   "outputs": [],
   "source": [
    "from sklearn.ensemble import RandomForestRegressor"
   ]
  },
  {
   "cell_type": "code",
   "execution_count": 42,
   "id": "68299af0",
   "metadata": {},
   "outputs": [
    {
     "data": {
      "text/plain": [
       "RandomForestRegressor()"
      ]
     },
     "execution_count": 42,
     "metadata": {},
     "output_type": "execute_result"
    }
   ],
   "source": [
    "# model building\n",
    "model3 = RandomForestRegressor()\n",
    "model3.fit(trainx,trainy)"
   ]
  },
  {
   "cell_type": "code",
   "execution_count": 43,
   "id": "aede3700",
   "metadata": {},
   "outputs": [
    {
     "name": "stdout",
     "output_type": "stream",
     "text": [
      "model Random Forest Regressor \n",
      "\tmse = 28455269254418.57, \n",
      "\trmse = 5334348.06, \n",
      "\tr2_score= 0.9418248854451887\n"
     ]
    }
   ],
   "source": [
    "# predictions \n",
    "pred3 = model3.predict(testx)\n",
    "\n",
    "# Evaluation\n",
    "mse3 = mean_squared_error(testy,pred3)\n",
    "r3= r2_score(testy,pred3)\n",
    "print(\"model Random Forest Regressor \\n\\tmse = {}, \\n\\trmse = {}, \\n\\tr2_score= {}\".format(round(mse3,2),round(np.sqrt(mse3),2),r3))"
   ]
  },
  {
   "cell_type": "code",
   "execution_count": 44,
   "id": "33d50499",
   "metadata": {},
   "outputs": [
    {
     "data": {
      "text/html": [
       "<div>\n",
       "<style scoped>\n",
       "    .dataframe tbody tr th:only-of-type {\n",
       "        vertical-align: middle;\n",
       "    }\n",
       "\n",
       "    .dataframe tbody tr th {\n",
       "        vertical-align: top;\n",
       "    }\n",
       "\n",
       "    .dataframe thead th {\n",
       "        text-align: right;\n",
       "    }\n",
       "</style>\n",
       "<table border=\"1\" class=\"dataframe\">\n",
       "  <thead>\n",
       "    <tr style=\"text-align: right;\">\n",
       "      <th></th>\n",
       "      <th>actual</th>\n",
       "      <th>predicted</th>\n",
       "    </tr>\n",
       "  </thead>\n",
       "  <tbody>\n",
       "    <tr>\n",
       "      <th>120685</th>\n",
       "      <td>1.452725e+09</td>\n",
       "      <td>1.221978e+09</td>\n",
       "    </tr>\n",
       "    <tr>\n",
       "      <th>258837</th>\n",
       "      <td>1.401300e+09</td>\n",
       "      <td>6.933500e+08</td>\n",
       "    </tr>\n",
       "    <tr>\n",
       "      <th>120677</th>\n",
       "      <td>1.351758e+09</td>\n",
       "      <td>1.293036e+09</td>\n",
       "    </tr>\n",
       "    <tr>\n",
       "      <th>120681</th>\n",
       "      <td>1.264153e+09</td>\n",
       "      <td>1.227119e+09</td>\n",
       "    </tr>\n",
       "    <tr>\n",
       "      <th>258834</th>\n",
       "      <td>1.250800e+09</td>\n",
       "      <td>7.347992e+08</td>\n",
       "    </tr>\n",
       "    <tr>\n",
       "      <th>258835</th>\n",
       "      <td>1.212000e+09</td>\n",
       "      <td>6.870872e+08</td>\n",
       "    </tr>\n",
       "    <tr>\n",
       "      <th>258833</th>\n",
       "      <td>1.150800e+09</td>\n",
       "      <td>9.616210e+08</td>\n",
       "    </tr>\n",
       "    <tr>\n",
       "      <th>146195</th>\n",
       "      <td>1.125000e+09</td>\n",
       "      <td>9.446935e+08</td>\n",
       "    </tr>\n",
       "    <tr>\n",
       "      <th>146175</th>\n",
       "      <td>9.750000e+08</td>\n",
       "      <td>9.279463e+08</td>\n",
       "    </tr>\n",
       "    <tr>\n",
       "      <th>146196</th>\n",
       "      <td>9.350000e+08</td>\n",
       "      <td>9.494705e+08</td>\n",
       "    </tr>\n",
       "    <tr>\n",
       "      <th>146197</th>\n",
       "      <td>9.330000e+08</td>\n",
       "      <td>1.000690e+09</td>\n",
       "    </tr>\n",
       "    <tr>\n",
       "      <th>146157</th>\n",
       "      <td>9.290000e+08</td>\n",
       "      <td>8.526452e+08</td>\n",
       "    </tr>\n",
       "    <tr>\n",
       "      <th>258828</th>\n",
       "      <td>9.242000e+08</td>\n",
       "      <td>7.306859e+08</td>\n",
       "    </tr>\n",
       "    <tr>\n",
       "      <th>146201</th>\n",
       "      <td>9.120000e+08</td>\n",
       "      <td>8.145691e+08</td>\n",
       "    </tr>\n",
       "    <tr>\n",
       "      <th>146163</th>\n",
       "      <td>8.980000e+08</td>\n",
       "      <td>8.657100e+08</td>\n",
       "    </tr>\n",
       "    <tr>\n",
       "      <th>146172</th>\n",
       "      <td>8.820000e+08</td>\n",
       "      <td>9.391188e+08</td>\n",
       "    </tr>\n",
       "    <tr>\n",
       "      <th>146188</th>\n",
       "      <td>8.630000e+08</td>\n",
       "      <td>8.612298e+08</td>\n",
       "    </tr>\n",
       "    <tr>\n",
       "      <th>258836</th>\n",
       "      <td>8.598000e+08</td>\n",
       "      <td>6.774542e+08</td>\n",
       "    </tr>\n",
       "    <tr>\n",
       "      <th>146171</th>\n",
       "      <td>8.520090e+08</td>\n",
       "      <td>9.040024e+08</td>\n",
       "    </tr>\n",
       "    <tr>\n",
       "      <th>146167</th>\n",
       "      <td>8.510000e+08</td>\n",
       "      <td>8.779348e+08</td>\n",
       "    </tr>\n",
       "    <tr>\n",
       "      <th>146176</th>\n",
       "      <td>8.370000e+08</td>\n",
       "      <td>8.883395e+08</td>\n",
       "    </tr>\n",
       "    <tr>\n",
       "      <th>146177</th>\n",
       "      <td>8.150000e+08</td>\n",
       "      <td>8.300756e+08</td>\n",
       "    </tr>\n",
       "    <tr>\n",
       "      <th>146182</th>\n",
       "      <td>7.170000e+08</td>\n",
       "      <td>7.411512e+08</td>\n",
       "    </tr>\n",
       "    <tr>\n",
       "      <th>146105</th>\n",
       "      <td>7.050000e+08</td>\n",
       "      <td>6.093825e+08</td>\n",
       "    </tr>\n",
       "    <tr>\n",
       "      <th>2986</th>\n",
       "      <td>6.969000e+08</td>\n",
       "      <td>7.367678e+08</td>\n",
       "    </tr>\n",
       "    <tr>\n",
       "      <th>3229</th>\n",
       "      <td>6.941640e+08</td>\n",
       "      <td>3.124679e+08</td>\n",
       "    </tr>\n",
       "    <tr>\n",
       "      <th>2973</th>\n",
       "      <td>6.859437e+08</td>\n",
       "      <td>5.968640e+08</td>\n",
       "    </tr>\n",
       "    <tr>\n",
       "      <th>120673</th>\n",
       "      <td>6.837650e+08</td>\n",
       "      <td>8.255159e+08</td>\n",
       "    </tr>\n",
       "    <tr>\n",
       "      <th>2974</th>\n",
       "      <td>6.831715e+08</td>\n",
       "      <td>5.815835e+08</td>\n",
       "    </tr>\n",
       "    <tr>\n",
       "      <th>259217</th>\n",
       "      <td>6.757000e+08</td>\n",
       "      <td>4.420610e+08</td>\n",
       "    </tr>\n",
       "  </tbody>\n",
       "</table>\n",
       "</div>"
      ],
      "text/plain": [
       "              actual     predicted\n",
       "120685  1.452725e+09  1.221978e+09\n",
       "258837  1.401300e+09  6.933500e+08\n",
       "120677  1.351758e+09  1.293036e+09\n",
       "120681  1.264153e+09  1.227119e+09\n",
       "258834  1.250800e+09  7.347992e+08\n",
       "258835  1.212000e+09  6.870872e+08\n",
       "258833  1.150800e+09  9.616210e+08\n",
       "146195  1.125000e+09  9.446935e+08\n",
       "146175  9.750000e+08  9.279463e+08\n",
       "146196  9.350000e+08  9.494705e+08\n",
       "146197  9.330000e+08  1.000690e+09\n",
       "146157  9.290000e+08  8.526452e+08\n",
       "258828  9.242000e+08  7.306859e+08\n",
       "146201  9.120000e+08  8.145691e+08\n",
       "146163  8.980000e+08  8.657100e+08\n",
       "146172  8.820000e+08  9.391188e+08\n",
       "146188  8.630000e+08  8.612298e+08\n",
       "258836  8.598000e+08  6.774542e+08\n",
       "146171  8.520090e+08  9.040024e+08\n",
       "146167  8.510000e+08  8.779348e+08\n",
       "146176  8.370000e+08  8.883395e+08\n",
       "146177  8.150000e+08  8.300756e+08\n",
       "146182  7.170000e+08  7.411512e+08\n",
       "146105  7.050000e+08  6.093825e+08\n",
       "2986    6.969000e+08  7.367678e+08\n",
       "3229    6.941640e+08  3.124679e+08\n",
       "2973    6.859437e+08  5.968640e+08\n",
       "120673  6.837650e+08  8.255159e+08\n",
       "2974    6.831715e+08  5.815835e+08\n",
       "259217  6.757000e+08  4.420610e+08"
      ]
     },
     "execution_count": 44,
     "metadata": {},
     "output_type": "execute_result"
    }
   ],
   "source": [
    "# store results in dataframe for analysis\n",
    "df2 = pd.DataFrame({\"actual\":testy, \"predicted\":pred3})\n",
    "df2.sort_values(by='actual',ascending=False).head(30)"
   ]
  },
  {
   "cell_type": "markdown",
   "id": "52484c00",
   "metadata": {},
   "source": [
    "### Hyperparamter Tuning\n",
    "Machine learning models have hyperparameters that must set in order to customize the model to your dataset.\n",
    "Often the general effects of hyperparameters on a model are known, but how to best set a hyperparameter and combinations of interacting hyperparameters for a given dataset is challenging. There are often general heuristics or rules of thumb for configuring hyperparameters.\n",
    "A better approach is to objectively search different values for model hyperparameters and choose a subset that results in a model that achieves the best performance on a given dataset. This is called hyperparameter optimization or hyperparameter tuning."
   ]
  },
  {
   "cell_type": "markdown",
   "id": "51e42cfa",
   "metadata": {},
   "source": [
    "### AdaBoost Regressor-Decision Tree\n",
    "The first realization of boosting that saw great success in application was Adaptive Boosting or AdaBoost for short. Adaboost helps you combine multiple 'weak regressor' into a single 'strong regressor'\n",
    "\n",
    "* The weak learners in AdaBoost are decision trees with a single split, called decision stumps.\n",
    "* AdaBoost works by putting more weight on difficult to classify instances and less on those already handled well.\n",
    "* AdaBoost algorithms can be used for both classification and regression problem.\n",
    "\n",
    "### Model4: Adaboost Regressor with RandomForest as base model"
   ]
  },
  {
   "cell_type": "code",
   "execution_count": 45,
   "id": "d9372602",
   "metadata": {},
   "outputs": [],
   "source": [
    "from sklearn.ensemble import AdaBoostRegressor"
   ]
  },
  {
   "cell_type": "code",
   "execution_count": 46,
   "id": "003fdcb5",
   "metadata": {},
   "outputs": [],
   "source": [
    "model4 = AdaBoostRegressor(RandomForestRegressor(max_depth=1),n_estimators=50,learning_rate= 1).fit(trainx,trainy)"
   ]
  },
  {
   "cell_type": "code",
   "execution_count": 48,
   "id": "d4c947cf",
   "metadata": {},
   "outputs": [
    {
     "name": "stdout",
     "output_type": "stream",
     "text": [
      "model Adaboost Regressor \n",
      "\tmse = 198677193691628.9, \n",
      "\trmse = 14095289.77, \n",
      "\tr2_score= 0.5938162313946762\n"
     ]
    }
   ],
   "source": [
    "# predictions \n",
    "pred4 = model4.predict(testx)\n",
    "\n",
    "# Evaluation\n",
    "mse4 = mean_squared_error(testy,pred4)\n",
    "r4= r2_score(testy,pred4)\n",
    "print(\"model Adaboost Regressor \\n\\tmse = {}, \\n\\trmse = {}, \\n\\tr2_score= {}\".format(round(mse4,2),round(np.sqrt(mse4),2),r4))"
   ]
  },
  {
   "cell_type": "markdown",
   "id": "f384906a",
   "metadata": {},
   "source": [
    "### Model 5: Adaboost Regressor with Decision Tree as base model "
   ]
  },
  {
   "cell_type": "code",
   "execution_count": 49,
   "id": "a84d35ae",
   "metadata": {},
   "outputs": [],
   "source": [
    "model5=AdaBoostRegressor(DecisionTreeRegressor(max_depth=1)).fit(trainx,trainy)"
   ]
  },
  {
   "cell_type": "code",
   "execution_count": 50,
   "id": "d6e485b8",
   "metadata": {},
   "outputs": [
    {
     "name": "stdout",
     "output_type": "stream",
     "text": [
      "model Adaboost Regressor \n",
      "\tmse = 207066539349086.9, \n",
      "\trmse = 14389806.79, \n",
      "\tr2_score= 0.5766647105182134\n"
     ]
    }
   ],
   "source": [
    "# predictions \n",
    "pred5 = model5.predict(testx)\n",
    "\n",
    "# Evaluation\n",
    "mse5 = mean_squared_error(testy,pred5)\n",
    "r5= r2_score(testy,pred5)\n",
    "print(\"model Adaboost Regressor \\n\\tmse = {}, \\n\\trmse = {}, \\n\\tr2_score= {}\".format(round(mse5,2),round(np.sqrt(mse5),2),r5))"
   ]
  },
  {
   "cell_type": "markdown",
   "id": "e712a498",
   "metadata": {},
   "source": [
    "### Gradient boosting \n",
    "is one of the most powerful techniques for building predictive models.\n",
    "\n",
    "Gradient boosting involves three elements:\n",
    "\n",
    "* A loss function to be optimized.\n",
    "* A weak learner to make predictions.\n",
    "* An additive model to add weak learners to minimize the loss function.\n",
    "\n",
    "**Loss Function** The loss function used depends on the type of problem being solved. It must be differentiable, but many standard loss functions are supported and you can define your own. For example, regression may use a squared error and classification may use logarithmic loss. A benefit of the gradient boosting framework is that a new boosting algorithm does not have to be derived for each loss function that may want to be used, instead, it is a generic enough framework that any differentiable loss function can be used.\n",
    "\n",
    "**Weak Learner** Decision trees are used as the weak learner in gradient boosting. Specifically regression trees are used that output real values for splits and whose output can be added together, allowing subsequent models outputs to be added and 'correct' the residuals in the predictions. Trees are constructed in a greedy manner, choosing the best split points based on purity scores like Gini or to minimize the loss. It is common to constrain the weak learners in specific ways, such as a maximum number of layers, nodes, splits or leaf nodes. This is to ensure that the learners remain weak, but can still be constructed in a greedy manner.\n",
    "\n",
    "**Additive Model** Trees are added one at a time, and existing trees in the model are not changed. A gradient descent procedure is used to minimize the loss when adding trees. Traditionally, gradient descent is used to minimize a set of parameters, such as the coefficients in a regression equation or weights in a neural network. After calculating error or loss, the weights are updated to minimize that error. Instead of parameters, we have weak learner sub-models or more specifically decision trees. After calculating the loss, to perform the gradient descent procedure, we must add a tree to the model that reduces the loss (i.e. follow the gradient). We do this by parameterizing the tree, then modify the parameters of the tree and move in the right direction by (reducing the residual loss).\n",
    "\n",
    "### Model 6: Gradient Boosting Regressor "
   ]
  },
  {
   "cell_type": "code",
   "execution_count": 51,
   "id": "9aad4db7",
   "metadata": {},
   "outputs": [],
   "source": [
    "from sklearn.ensemble import GradientBoostingRegressor"
   ]
  },
  {
   "cell_type": "code",
   "execution_count": 52,
   "id": "1ef23bf4",
   "metadata": {},
   "outputs": [
    {
     "data": {
      "text/plain": [
       "GradientBoostingRegressor()"
      ]
     },
     "execution_count": 52,
     "metadata": {},
     "output_type": "execute_result"
    }
   ],
   "source": [
    "# Building model\n",
    "model6 = GradientBoostingRegressor()\n",
    "model6.fit(trainx,trainy)"
   ]
  },
  {
   "cell_type": "code",
   "execution_count": 53,
   "id": "a3031b44",
   "metadata": {},
   "outputs": [
    {
     "name": "stdout",
     "output_type": "stream",
     "text": [
      "model Gradient Boosting Regressor \n",
      "\tmse = 30230484204319.04, \n",
      "\trmse = 5498225.55, \n",
      "\tr2_score= 0.9381955635032135\n"
     ]
    }
   ],
   "source": [
    "# predictions \n",
    "pred6 = model6.predict(testx)\n",
    "\n",
    "# Evaluation\n",
    "mse6 = mean_squared_error(testy,pred6)\n",
    "r6= r2_score(testy,pred6)\n",
    "print(\"model Gradient Boosting Regressor \\n\\tmse = {}, \\n\\trmse = {}, \\n\\tr2_score= {}\".format(round(mse6,2),round(np.sqrt(mse6),2),r6))"
   ]
  },
  {
   "cell_type": "code",
   "execution_count": 54,
   "id": "a79fe9ea",
   "metadata": {},
   "outputs": [
    {
     "data": {
      "text/plain": [
       "{'alpha': 0.9,\n",
       " 'ccp_alpha': 0.0,\n",
       " 'criterion': 'friedman_mse',\n",
       " 'init': None,\n",
       " 'learning_rate': 0.1,\n",
       " 'loss': 'squared_error',\n",
       " 'max_depth': 3,\n",
       " 'max_features': None,\n",
       " 'max_leaf_nodes': None,\n",
       " 'min_impurity_decrease': 0.0,\n",
       " 'min_samples_leaf': 1,\n",
       " 'min_samples_split': 2,\n",
       " 'min_weight_fraction_leaf': 0.0,\n",
       " 'n_estimators': 100,\n",
       " 'n_iter_no_change': None,\n",
       " 'random_state': None,\n",
       " 'subsample': 1.0,\n",
       " 'tol': 0.0001,\n",
       " 'validation_fraction': 0.1,\n",
       " 'verbose': 0,\n",
       " 'warm_start': False}"
      ]
     },
     "execution_count": 54,
     "metadata": {},
     "output_type": "execute_result"
    }
   ],
   "source": [
    "model6.get_params()"
   ]
  },
  {
   "cell_type": "markdown",
   "id": "26c528ef",
   "metadata": {},
   "source": [
    "### XGBoost Regressor\n",
    "XGBoost is one of the most popular variants of gradient boosting. It is a decision-tree-based ensemble Machine Learning algorithm that uses a gradient boosting framework. XGBoost is basically designed to enhance the performance and speed of a Machine Learning model. In prediction problems involving unstructured data (images, text, etc.), artificial neural networks tend to outperform all other algorithms or frameworks. However, when it comes to small-to-medium structured/tabular data, decision tree-based algorithms are considered best-in-class right now.\n",
    "\n",
    "XGBoost uses pre-sorted algorithm & histogram-based algorithm for computing the best split. The histogram-based algorithm splits all the data points for a feature into discrete bins and uses these bins to find the split value of the histogram. Also, in XGBoost, the trees can have a varying number of terminal nodes and left weights of the trees that are calculated with less evidence is shrunk more heavily.\n",
    "### Model 7: XGboost Regressor Model"
   ]
  },
  {
   "cell_type": "code",
   "execution_count": 55,
   "id": "2d42cb51",
   "metadata": {},
   "outputs": [],
   "source": [
    "import xgboost as xg"
   ]
  },
  {
   "cell_type": "code",
   "execution_count": 56,
   "id": "6367c927",
   "metadata": {},
   "outputs": [
    {
     "data": {
      "text/plain": [
       "XGBRegressor(base_score=None, booster=None, callbacks=None,\n",
       "             colsample_bylevel=None, colsample_bynode=None,\n",
       "             colsample_bytree=None, early_stopping_rounds=None,\n",
       "             enable_categorical=False, eval_metric=None, feature_types=None,\n",
       "             gamma=None, gpu_id=None, grow_policy=None, importance_type=None,\n",
       "             interaction_constraints=None, learning_rate=None, max_bin=None,\n",
       "             max_cat_threshold=None, max_cat_to_onehot=None,\n",
       "             max_delta_step=None, max_depth=None, max_leaves=None,\n",
       "             min_child_weight=None, missing=nan, monotone_constraints=None,\n",
       "             n_estimators=100, n_jobs=None, num_parallel_tree=None,\n",
       "             predictor=None, random_state=None, ...)"
      ]
     },
     "execution_count": 56,
     "metadata": {},
     "output_type": "execute_result"
    }
   ],
   "source": [
    "# Building model\n",
    "model7 = xg.XGBRegressor()\n",
    "model7.fit(trainx,trainy)"
   ]
  },
  {
   "cell_type": "code",
   "execution_count": 57,
   "id": "a691284b",
   "metadata": {},
   "outputs": [
    {
     "name": "stdout",
     "output_type": "stream",
     "text": [
      "model XGBoost Regressor \n",
      "\tmse = 28470966522941.58, \n",
      "\trmse = 5335819.2, \n",
      "\tr2_score= 0.9417927933083561\n"
     ]
    }
   ],
   "source": [
    "# predictions \n",
    "pred7 = model7.predict(testx)\n",
    "\n",
    "# Evaluation\n",
    "mse7 = mean_squared_error(testy,pred7)\n",
    "r7= r2_score(testy,pred7)\n",
    "print(\"model XGBoost Regressor \\n\\tmse = {}, \\n\\trmse = {}, \\n\\tr2_score= {}\".format(round(mse7,2),round(np.sqrt(mse7),2),r7))"
   ]
  },
  {
   "cell_type": "markdown",
   "id": "5a5f74e4",
   "metadata": {},
   "source": [
    "### Feature engineering \n",
    "* 1. Reducing the levels of crop by classifying crops into cereals, pulses, fruits, vegetables etc \n",
    "* 2. Reducing the levels for state into regions:north-south-east-west-northEast-Central"
   ]
  },
  {
   "cell_type": "code",
   "execution_count": 58,
   "id": "341f5692",
   "metadata": {},
   "outputs": [
    {
     "data": {
      "text/plain": [
       "(array(['Arecanut', 'Arhar/Tur', 'Banana', 'Black pepper', 'Cashewnut',\n",
       "        'Coconut ', 'Cowpea(Lobia)', 'Dry chillies', 'Ginger', 'Groundnut',\n",
       "        'Maize', 'Moong(Green Gram)', 'Oilseeds total',\n",
       "        'Other Kharif pulses', 'other oilseeds', 'Rapeseed &Mustard',\n",
       "        'Rice', 'Sesamum', 'Sugarcane', 'Sunflower', 'Sweet potato',\n",
       "        'Tapioca', 'Turmeric', 'Urad', 'Bajra', 'Castor seed', 'Coriander',\n",
       "        'Cotton(lint)', 'Garlic', 'Gram', 'Guar seed', 'Horse-gram',\n",
       "        'Jowar', 'Linseed', 'Masoor', 'Mesta', 'Niger seed', 'Onion',\n",
       "        'Other  Rabi pulses', 'Potato', 'Ragi', 'Safflower',\n",
       "        'Small millets', 'Soyabean', 'Tobacco', 'Wheat',\n",
       "        'Peas & beans (Pulses)', 'Jute', 'Barley', 'Khesari', 'Sannhamp',\n",
       "        'Moth', 'Other Cereals', 'Cardamom', 'Other Summer Pulses'],\n",
       "       dtype=object),\n",
       " 55)"
      ]
     },
     "execution_count": 58,
     "metadata": {},
     "output_type": "execute_result"
    }
   ],
   "source": [
    "# reducing crop level by classifying crops into cereals,pulses,etc\n",
    "pd.unique(crop[\"Crop\"]),len(pd.unique(crop[\"Crop\"]))"
   ]
  },
  {
   "cell_type": "code",
   "execution_count": 59,
   "id": "8ac517db",
   "metadata": {},
   "outputs": [],
   "source": [
    "cc=crop['Crop']\n",
    "def cat_crop(cc):\n",
    "    for i in ['Rice','Maize','Wheat','Barley','Varagu','Other Cereals & Millets','Ragi','Small millets','Bajra','Jowar','Total foodgrain']:\n",
    "        if cc==i:\n",
    "            return 'Cereal'\n",
    "    for i in ['Moong','Urad','Arhar/Tur','Peas & beans','Masoor',\n",
    "              'Other Kharif pulses','other misc. pulses','Ricebean (nagadal)',\n",
    "              'Rajmash Kholar','Lentil','Samai','Blackgram','Korra','Cowpea(Lobia)',\n",
    "              'Other  Rabi pulses','Other Kharif pulses','Peas & beans (Pulses)','Pulses total']:\n",
    "        if cc==i:\n",
    "            return 'Pulses'\n",
    "    for i in ['Peach','Apple','Litchi','Pear','Plums','Ber','Sapota','Lemon','Pome Granet',\n",
    "               'Other Citrus Fruit','Water Melon','Jack Fruit','Grapes','Pineapple','Orange',\n",
    "               'Pome Fruit','Citrus Fruit','Other Fresh Fruits','Mango','Papaya','Coconut','Banana']:\n",
    "        if cc==i:\n",
    "            return 'Fruits'\n",
    "    for i in ['Bean','Lab-Lab','Moth','Guar seed','Tapioca','Soyabean','Horse-gram','Gram']:\n",
    "        if cc==i:\n",
    "            return 'Beans'\n",
    "    for i in ['Turnip','Peas','Beet Root','Carrot','Yam','Ribed Guard','Ash Gourd ','Pump Kin','Redish','Snak Guard','Bottle Gourd',\n",
    "              'Bitter Gourd','Cucumber','Drum Stick','Cauliflower','Beans & Mutter(Vegetable)','Cabbage',\n",
    "              'Bhindi','Tomato','Brinjal','Khesari','Sweet potato','Potato','Onion']:\n",
    "        if cc==i:\n",
    "            return 'Vegetables'\n",
    "    for i in ['Perilla','Colocosia','Ginger','Cardamom','Black pepper','Dry ginger','Garlic','Coriander','Turmeric','Dry chillies']:\n",
    "        if cc==i:\n",
    "            return 'Species'\n",
    "    for i in ['Jobster','Cond-spcs other']:\n",
    "        if cc==i:\n",
    "            return 'Other'\n",
    "    for i in ['other fibres','Kapas','Jute & mesta','Jute','Mesta','Cotton(lint)']:\n",
    "        if cc==i:\n",
    "            return 'fibres'\n",
    "    for i in ['Arcanut (Processed)','Atcanut (Raw)','Cashewnut Processed','Cashewnut Raw','Cashewnut','Arecanut','Groundnut']:\n",
    "        if cc==i:\n",
    "            return 'Nuts'\n",
    "    for i in ['Rubber']:\n",
    "        if cc==i:\n",
    "            return 'Natural Polymer'\n",
    "    for i in ['Coffee']:\n",
    "        if cc== i:\n",
    "            return 'Coffee'\n",
    "    for i in ['Tea']:\n",
    "        if cc==i:\n",
    "            return 'Tea'\n",
    "    for i in ['Paddy']:\n",
    "        if cc==i:\n",
    "            return 'Paddy'\n",
    "    for i in ['other oilseeds','Safflower','Niger seed','Castor seed','Linseed','Sunflower','Rapeseed &Mustard','Sesamum','Oilseeds total']:\n",
    "        if cc==i:\n",
    "            return 'Oilseeds'\n",
    "    for i in ['Sannhamp']:\n",
    "        if cc==i:\n",
    "            return 'Fertile Plant'\n",
    "    for i in ['Tobacco']:\n",
    "        if cc==i:\n",
    "            return 'Commercial'\n",
    "    for i in ['Sugarcane']:\n",
    "        if cc==i:\n",
    "            return 'Sugarcane'"
   ]
  },
  {
   "cell_type": "code",
   "execution_count": 60,
   "id": "875fcf1c",
   "metadata": {},
   "outputs": [],
   "source": [
    "crop['cat_crop']=crop['Crop'].apply(cat_crop)"
   ]
  },
  {
   "cell_type": "code",
   "execution_count": 61,
   "id": "91f30eca",
   "metadata": {},
   "outputs": [
    {
     "data": {
      "text/html": [
       "<div>\n",
       "<style scoped>\n",
       "    .dataframe tbody tr th:only-of-type {\n",
       "        vertical-align: middle;\n",
       "    }\n",
       "\n",
       "    .dataframe tbody tr th {\n",
       "        vertical-align: top;\n",
       "    }\n",
       "\n",
       "    .dataframe thead th {\n",
       "        text-align: right;\n",
       "    }\n",
       "</style>\n",
       "<table border=\"1\" class=\"dataframe\">\n",
       "  <thead>\n",
       "    <tr style=\"text-align: right;\">\n",
       "      <th></th>\n",
       "      <th>State</th>\n",
       "      <th>Crop_Year</th>\n",
       "      <th>Season</th>\n",
       "      <th>Crop</th>\n",
       "      <th>Area</th>\n",
       "      <th>Production</th>\n",
       "      <th>cat_crop</th>\n",
       "    </tr>\n",
       "  </thead>\n",
       "  <tbody>\n",
       "    <tr>\n",
       "      <th>0</th>\n",
       "      <td>Andaman and Nicobar Island</td>\n",
       "      <td>2007</td>\n",
       "      <td>Kharif</td>\n",
       "      <td>Arecanut</td>\n",
       "      <td>2439.6</td>\n",
       "      <td>3415.0</td>\n",
       "      <td>Nuts</td>\n",
       "    </tr>\n",
       "    <tr>\n",
       "      <th>1</th>\n",
       "      <td>Andaman and Nicobar Island</td>\n",
       "      <td>2007</td>\n",
       "      <td>Rabi</td>\n",
       "      <td>Arecanut</td>\n",
       "      <td>1626.4</td>\n",
       "      <td>2277.0</td>\n",
       "      <td>Nuts</td>\n",
       "    </tr>\n",
       "    <tr>\n",
       "      <th>2</th>\n",
       "      <td>Andaman and Nicobar Island</td>\n",
       "      <td>2008</td>\n",
       "      <td>Autumn</td>\n",
       "      <td>Arecanut</td>\n",
       "      <td>4147.0</td>\n",
       "      <td>3060.0</td>\n",
       "      <td>Nuts</td>\n",
       "    </tr>\n",
       "    <tr>\n",
       "      <th>3</th>\n",
       "      <td>Andaman and Nicobar Island</td>\n",
       "      <td>2008</td>\n",
       "      <td>Summer</td>\n",
       "      <td>Arecanut</td>\n",
       "      <td>4147.0</td>\n",
       "      <td>2660.0</td>\n",
       "      <td>Nuts</td>\n",
       "    </tr>\n",
       "    <tr>\n",
       "      <th>4</th>\n",
       "      <td>Andaman and Nicobar Island</td>\n",
       "      <td>2009</td>\n",
       "      <td>Autumn</td>\n",
       "      <td>Arecanut</td>\n",
       "      <td>4153.0</td>\n",
       "      <td>3120.0</td>\n",
       "      <td>Nuts</td>\n",
       "    </tr>\n",
       "  </tbody>\n",
       "</table>\n",
       "</div>"
      ],
      "text/plain": [
       "                        State  Crop_Year       Season      Crop   Area   \\\n",
       "0  Andaman and Nicobar Island       2007  Kharif       Arecanut  2439.6   \n",
       "1  Andaman and Nicobar Island       2007  Rabi         Arecanut  1626.4   \n",
       "2  Andaman and Nicobar Island       2008  Autumn       Arecanut  4147.0   \n",
       "3  Andaman and Nicobar Island       2008  Summer       Arecanut  4147.0   \n",
       "4  Andaman and Nicobar Island       2009  Autumn       Arecanut  4153.0   \n",
       "\n",
       "   Production cat_crop  \n",
       "0      3415.0     Nuts  \n",
       "1      2277.0     Nuts  \n",
       "2      3060.0     Nuts  \n",
       "3      2660.0     Nuts  \n",
       "4      3120.0     Nuts  "
      ]
     },
     "execution_count": 61,
     "metadata": {},
     "output_type": "execute_result"
    }
   ],
   "source": [
    "crop.head()"
   ]
  },
  {
   "cell_type": "code",
   "execution_count": 62,
   "id": "3a17f858",
   "metadata": {},
   "outputs": [
    {
     "data": {
      "text/plain": [
       "Cereal           89281\n",
       "Pulses           50643\n",
       "Oilseeds         47242\n",
       "Species          30878\n",
       "Vegetables       28759\n",
       "Beans            26254\n",
       "Nuts             16184\n",
       "Sugarcane        10826\n",
       "fibres           10532\n",
       "Fruits            4042\n",
       "Commercial        3858\n",
       "Fertile Plant     2738\n",
       "Name: cat_crop, dtype: int64"
      ]
     },
     "execution_count": 62,
     "metadata": {},
     "output_type": "execute_result"
    }
   ],
   "source": [
    "crop.cat_crop.value_counts()"
   ]
  },
  {
   "cell_type": "code",
   "execution_count": 63,
   "id": "867752e1",
   "metadata": {},
   "outputs": [
    {
     "data": {
      "text/plain": [
       "(array(['Andaman and Nicobar Island', 'Andhra Pradesh',\n",
       "        'Arunachal Pradesh', 'Assam', 'Bihar', 'CHANDIGARH',\n",
       "        'Chhattisgarh', 'Dadra and Nagar Haveli', 'Daman and Diu', 'Delhi',\n",
       "        'Goa', 'Gujarat', 'Haryana', 'Himachal Pradesh',\n",
       "        'Jammu and Kashmir', 'Jharkhand', 'Karnataka', 'Kerala', 'Laddak',\n",
       "        'Madhya Pradesh', 'Maharashtra', 'Manipur', 'Meghalaya', 'Mizoram',\n",
       "        'Nagaland', 'Odisha', 'Puducherry', 'Punjab', 'Rajasthan',\n",
       "        'Sikkim', 'Tamil Nadu', 'Telangana', 'THE DADRA AND NAGAR HAVELI',\n",
       "        'Tripura', 'Uttar Pradesh', 'Uttarakhand', 'West Bengal'],\n",
       "       dtype=object),\n",
       " 37)"
      ]
     },
     "execution_count": 63,
     "metadata": {},
     "output_type": "execute_result"
    }
   ],
   "source": [
    "# Reducing the levels for state into regions:north-south-east-west-northEast-Central\n",
    "pd.unique(crop['State']),len(pd.unique(crop['State']))"
   ]
  },
  {
   "cell_type": "code",
   "execution_count": 64,
   "id": "f59641f5",
   "metadata": {},
   "outputs": [],
   "source": [
    "cs=crop['State']\n",
    "def cat_state(cs):\n",
    "    for i in ['Arunachal Pradesh', 'Assam','Manipur',\n",
    "        'Meghalaya', 'Mizoram', 'Nagaland','Sikkim','Tripura']:\n",
    "        if cs==i:\n",
    "            return 'North-East'\n",
    "    for i in ['Chandigarh','Haryana', 'Himachal Pradesh', 'Jammu and Kashmir ','Punjab','Rajasthan']:\n",
    "        if cs==i:\n",
    "            return 'North'\n",
    "    for i in ['Andaman and Nicobar Islands','Andhra Pradesh','Karnataka', 'Kerala','Puducherry','Tamil Nadu', 'Telangana ']:\n",
    "        if cs==i:\n",
    "            return 'South'\n",
    "    for i in ['Bihar','Jharkhand','Odisha','West Bengal']:\n",
    "        if cs==i:\n",
    "            return 'East'\n",
    "    for i in ['Dadra and Nagar Haveli', 'Goa','Gujarat','Maharashtra']:\n",
    "        if cs==i:\n",
    "            return 'West'\n",
    "    for i in ['Chhattisgarh','Madhya Pradesh','Uttar Pradesh', 'Uttarakhand']:\n",
    "        if cs==i:\n",
    "            return 'Central'"
   ]
  },
  {
   "cell_type": "code",
   "execution_count": 65,
   "id": "97961e8f",
   "metadata": {},
   "outputs": [],
   "source": [
    "crop['cat_state']=crop['State'].apply(cat_state)"
   ]
  },
  {
   "cell_type": "code",
   "execution_count": 66,
   "id": "ab40bfdc",
   "metadata": {},
   "outputs": [
    {
     "data": {
      "text/html": [
       "<div>\n",
       "<style scoped>\n",
       "    .dataframe tbody tr th:only-of-type {\n",
       "        vertical-align: middle;\n",
       "    }\n",
       "\n",
       "    .dataframe tbody tr th {\n",
       "        vertical-align: top;\n",
       "    }\n",
       "\n",
       "    .dataframe thead th {\n",
       "        text-align: right;\n",
       "    }\n",
       "</style>\n",
       "<table border=\"1\" class=\"dataframe\">\n",
       "  <thead>\n",
       "    <tr style=\"text-align: right;\">\n",
       "      <th></th>\n",
       "      <th>State</th>\n",
       "      <th>Crop_Year</th>\n",
       "      <th>Season</th>\n",
       "      <th>Crop</th>\n",
       "      <th>Area</th>\n",
       "      <th>Production</th>\n",
       "      <th>cat_crop</th>\n",
       "      <th>cat_state</th>\n",
       "    </tr>\n",
       "  </thead>\n",
       "  <tbody>\n",
       "    <tr>\n",
       "      <th>0</th>\n",
       "      <td>Andaman and Nicobar Island</td>\n",
       "      <td>2007</td>\n",
       "      <td>Kharif</td>\n",
       "      <td>Arecanut</td>\n",
       "      <td>2439.6</td>\n",
       "      <td>3415.0</td>\n",
       "      <td>Nuts</td>\n",
       "      <td>None</td>\n",
       "    </tr>\n",
       "    <tr>\n",
       "      <th>1</th>\n",
       "      <td>Andaman and Nicobar Island</td>\n",
       "      <td>2007</td>\n",
       "      <td>Rabi</td>\n",
       "      <td>Arecanut</td>\n",
       "      <td>1626.4</td>\n",
       "      <td>2277.0</td>\n",
       "      <td>Nuts</td>\n",
       "      <td>None</td>\n",
       "    </tr>\n",
       "    <tr>\n",
       "      <th>2</th>\n",
       "      <td>Andaman and Nicobar Island</td>\n",
       "      <td>2008</td>\n",
       "      <td>Autumn</td>\n",
       "      <td>Arecanut</td>\n",
       "      <td>4147.0</td>\n",
       "      <td>3060.0</td>\n",
       "      <td>Nuts</td>\n",
       "      <td>None</td>\n",
       "    </tr>\n",
       "    <tr>\n",
       "      <th>3</th>\n",
       "      <td>Andaman and Nicobar Island</td>\n",
       "      <td>2008</td>\n",
       "      <td>Summer</td>\n",
       "      <td>Arecanut</td>\n",
       "      <td>4147.0</td>\n",
       "      <td>2660.0</td>\n",
       "      <td>Nuts</td>\n",
       "      <td>None</td>\n",
       "    </tr>\n",
       "    <tr>\n",
       "      <th>4</th>\n",
       "      <td>Andaman and Nicobar Island</td>\n",
       "      <td>2009</td>\n",
       "      <td>Autumn</td>\n",
       "      <td>Arecanut</td>\n",
       "      <td>4153.0</td>\n",
       "      <td>3120.0</td>\n",
       "      <td>Nuts</td>\n",
       "      <td>None</td>\n",
       "    </tr>\n",
       "  </tbody>\n",
       "</table>\n",
       "</div>"
      ],
      "text/plain": [
       "                        State  Crop_Year       Season      Crop   Area   \\\n",
       "0  Andaman and Nicobar Island       2007  Kharif       Arecanut  2439.6   \n",
       "1  Andaman and Nicobar Island       2007  Rabi         Arecanut  1626.4   \n",
       "2  Andaman and Nicobar Island       2008  Autumn       Arecanut  4147.0   \n",
       "3  Andaman and Nicobar Island       2008  Summer       Arecanut  4147.0   \n",
       "4  Andaman and Nicobar Island       2009  Autumn       Arecanut  4153.0   \n",
       "\n",
       "   Production cat_crop cat_state  \n",
       "0      3415.0     Nuts      None  \n",
       "1      2277.0     Nuts      None  \n",
       "2      3060.0     Nuts      None  \n",
       "3      2660.0     Nuts      None  \n",
       "4      3120.0     Nuts      None  "
      ]
     },
     "execution_count": 66,
     "metadata": {},
     "output_type": "execute_result"
    }
   ],
   "source": [
    "crop.head()"
   ]
  },
  {
   "cell_type": "code",
   "execution_count": 67,
   "id": "283a9225",
   "metadata": {},
   "outputs": [
    {
     "data": {
      "text/plain": [
       "Index(['State', 'Crop_Year', 'Season', 'Crop', 'Area ', 'Production',\n",
       "       'cat_crop', 'cat_state'],\n",
       "      dtype='object')"
      ]
     },
     "execution_count": 67,
     "metadata": {},
     "output_type": "execute_result"
    }
   ],
   "source": [
    "crop.columns"
   ]
  },
  {
   "cell_type": "code",
   "execution_count": 68,
   "id": "07ed5d75",
   "metadata": {},
   "outputs": [
    {
     "data": {
      "text/html": [
       "<div>\n",
       "<style scoped>\n",
       "    .dataframe tbody tr th:only-of-type {\n",
       "        vertical-align: middle;\n",
       "    }\n",
       "\n",
       "    .dataframe tbody tr th {\n",
       "        vertical-align: top;\n",
       "    }\n",
       "\n",
       "    .dataframe thead th {\n",
       "        text-align: right;\n",
       "    }\n",
       "</style>\n",
       "<table border=\"1\" class=\"dataframe\">\n",
       "  <thead>\n",
       "    <tr style=\"text-align: right;\">\n",
       "      <th></th>\n",
       "      <th>cat_state</th>\n",
       "      <th>Crop_Year</th>\n",
       "      <th>Season</th>\n",
       "      <th>cat_crop</th>\n",
       "      <th>Area</th>\n",
       "      <th>Production</th>\n",
       "    </tr>\n",
       "  </thead>\n",
       "  <tbody>\n",
       "    <tr>\n",
       "      <th>0</th>\n",
       "      <td>None</td>\n",
       "      <td>2007</td>\n",
       "      <td>Kharif</td>\n",
       "      <td>Nuts</td>\n",
       "      <td>2439.6</td>\n",
       "      <td>3415.0</td>\n",
       "    </tr>\n",
       "    <tr>\n",
       "      <th>1</th>\n",
       "      <td>None</td>\n",
       "      <td>2007</td>\n",
       "      <td>Rabi</td>\n",
       "      <td>Nuts</td>\n",
       "      <td>1626.4</td>\n",
       "      <td>2277.0</td>\n",
       "    </tr>\n",
       "    <tr>\n",
       "      <th>2</th>\n",
       "      <td>None</td>\n",
       "      <td>2008</td>\n",
       "      <td>Autumn</td>\n",
       "      <td>Nuts</td>\n",
       "      <td>4147.0</td>\n",
       "      <td>3060.0</td>\n",
       "    </tr>\n",
       "    <tr>\n",
       "      <th>3</th>\n",
       "      <td>None</td>\n",
       "      <td>2008</td>\n",
       "      <td>Summer</td>\n",
       "      <td>Nuts</td>\n",
       "      <td>4147.0</td>\n",
       "      <td>2660.0</td>\n",
       "    </tr>\n",
       "    <tr>\n",
       "      <th>4</th>\n",
       "      <td>None</td>\n",
       "      <td>2009</td>\n",
       "      <td>Autumn</td>\n",
       "      <td>Nuts</td>\n",
       "      <td>4153.0</td>\n",
       "      <td>3120.0</td>\n",
       "    </tr>\n",
       "  </tbody>\n",
       "</table>\n",
       "</div>"
      ],
      "text/plain": [
       "  cat_state  Crop_Year       Season cat_crop   Area   Production\n",
       "0      None       2007  Kharif          Nuts  2439.6      3415.0\n",
       "1      None       2007  Rabi            Nuts  1626.4      2277.0\n",
       "2      None       2008  Autumn          Nuts  4147.0      3060.0\n",
       "3      None       2008  Summer          Nuts  4147.0      2660.0\n",
       "4      None       2009  Autumn          Nuts  4153.0      3120.0"
      ]
     },
     "execution_count": 68,
     "metadata": {},
     "output_type": "execute_result"
    }
   ],
   "source": [
    "crop_2 = crop[['cat_state','Crop_Year','Season','cat_crop','Area ','Production']]\n",
    "crop_2.head()"
   ]
  },
  {
   "cell_type": "code",
   "execution_count": 69,
   "id": "4f3674bc",
   "metadata": {},
   "outputs": [],
   "source": [
    "crop_2_dummy=pd.get_dummies(data=crop_2,columns=['cat_state','Season','cat_crop'],drop_first=True)"
   ]
  },
  {
   "cell_type": "code",
   "execution_count": 70,
   "id": "b73a5751",
   "metadata": {},
   "outputs": [
    {
     "data": {
      "text/html": [
       "<div>\n",
       "<style scoped>\n",
       "    .dataframe tbody tr th:only-of-type {\n",
       "        vertical-align: middle;\n",
       "    }\n",
       "\n",
       "    .dataframe tbody tr th {\n",
       "        vertical-align: top;\n",
       "    }\n",
       "\n",
       "    .dataframe thead th {\n",
       "        text-align: right;\n",
       "    }\n",
       "</style>\n",
       "<table border=\"1\" class=\"dataframe\">\n",
       "  <thead>\n",
       "    <tr style=\"text-align: right;\">\n",
       "      <th></th>\n",
       "      <th>Crop_Year</th>\n",
       "      <th>Area</th>\n",
       "      <th>Production</th>\n",
       "      <th>cat_state_East</th>\n",
       "      <th>cat_state_North</th>\n",
       "      <th>cat_state_North-East</th>\n",
       "      <th>cat_state_South</th>\n",
       "      <th>cat_state_West</th>\n",
       "      <th>Season_Kharif</th>\n",
       "      <th>Season_Rabi</th>\n",
       "      <th>...</th>\n",
       "      <th>cat_crop_Commercial</th>\n",
       "      <th>cat_crop_Fertile Plant</th>\n",
       "      <th>cat_crop_Fruits</th>\n",
       "      <th>cat_crop_Nuts</th>\n",
       "      <th>cat_crop_Oilseeds</th>\n",
       "      <th>cat_crop_Pulses</th>\n",
       "      <th>cat_crop_Species</th>\n",
       "      <th>cat_crop_Sugarcane</th>\n",
       "      <th>cat_crop_Vegetables</th>\n",
       "      <th>cat_crop_fibres</th>\n",
       "    </tr>\n",
       "  </thead>\n",
       "  <tbody>\n",
       "    <tr>\n",
       "      <th>0</th>\n",
       "      <td>2007</td>\n",
       "      <td>2439.6</td>\n",
       "      <td>3415.0</td>\n",
       "      <td>0</td>\n",
       "      <td>0</td>\n",
       "      <td>0</td>\n",
       "      <td>0</td>\n",
       "      <td>0</td>\n",
       "      <td>1</td>\n",
       "      <td>0</td>\n",
       "      <td>...</td>\n",
       "      <td>0</td>\n",
       "      <td>0</td>\n",
       "      <td>0</td>\n",
       "      <td>1</td>\n",
       "      <td>0</td>\n",
       "      <td>0</td>\n",
       "      <td>0</td>\n",
       "      <td>0</td>\n",
       "      <td>0</td>\n",
       "      <td>0</td>\n",
       "    </tr>\n",
       "    <tr>\n",
       "      <th>1</th>\n",
       "      <td>2007</td>\n",
       "      <td>1626.4</td>\n",
       "      <td>2277.0</td>\n",
       "      <td>0</td>\n",
       "      <td>0</td>\n",
       "      <td>0</td>\n",
       "      <td>0</td>\n",
       "      <td>0</td>\n",
       "      <td>0</td>\n",
       "      <td>1</td>\n",
       "      <td>...</td>\n",
       "      <td>0</td>\n",
       "      <td>0</td>\n",
       "      <td>0</td>\n",
       "      <td>1</td>\n",
       "      <td>0</td>\n",
       "      <td>0</td>\n",
       "      <td>0</td>\n",
       "      <td>0</td>\n",
       "      <td>0</td>\n",
       "      <td>0</td>\n",
       "    </tr>\n",
       "    <tr>\n",
       "      <th>2</th>\n",
       "      <td>2008</td>\n",
       "      <td>4147.0</td>\n",
       "      <td>3060.0</td>\n",
       "      <td>0</td>\n",
       "      <td>0</td>\n",
       "      <td>0</td>\n",
       "      <td>0</td>\n",
       "      <td>0</td>\n",
       "      <td>0</td>\n",
       "      <td>0</td>\n",
       "      <td>...</td>\n",
       "      <td>0</td>\n",
       "      <td>0</td>\n",
       "      <td>0</td>\n",
       "      <td>1</td>\n",
       "      <td>0</td>\n",
       "      <td>0</td>\n",
       "      <td>0</td>\n",
       "      <td>0</td>\n",
       "      <td>0</td>\n",
       "      <td>0</td>\n",
       "    </tr>\n",
       "    <tr>\n",
       "      <th>3</th>\n",
       "      <td>2008</td>\n",
       "      <td>4147.0</td>\n",
       "      <td>2660.0</td>\n",
       "      <td>0</td>\n",
       "      <td>0</td>\n",
       "      <td>0</td>\n",
       "      <td>0</td>\n",
       "      <td>0</td>\n",
       "      <td>0</td>\n",
       "      <td>0</td>\n",
       "      <td>...</td>\n",
       "      <td>0</td>\n",
       "      <td>0</td>\n",
       "      <td>0</td>\n",
       "      <td>1</td>\n",
       "      <td>0</td>\n",
       "      <td>0</td>\n",
       "      <td>0</td>\n",
       "      <td>0</td>\n",
       "      <td>0</td>\n",
       "      <td>0</td>\n",
       "    </tr>\n",
       "    <tr>\n",
       "      <th>4</th>\n",
       "      <td>2009</td>\n",
       "      <td>4153.0</td>\n",
       "      <td>3120.0</td>\n",
       "      <td>0</td>\n",
       "      <td>0</td>\n",
       "      <td>0</td>\n",
       "      <td>0</td>\n",
       "      <td>0</td>\n",
       "      <td>0</td>\n",
       "      <td>0</td>\n",
       "      <td>...</td>\n",
       "      <td>0</td>\n",
       "      <td>0</td>\n",
       "      <td>0</td>\n",
       "      <td>1</td>\n",
       "      <td>0</td>\n",
       "      <td>0</td>\n",
       "      <td>0</td>\n",
       "      <td>0</td>\n",
       "      <td>0</td>\n",
       "      <td>0</td>\n",
       "    </tr>\n",
       "  </tbody>\n",
       "</table>\n",
       "<p>5 rows × 24 columns</p>\n",
       "</div>"
      ],
      "text/plain": [
       "   Crop_Year   Area   Production  cat_state_East  cat_state_North  \\\n",
       "0       2007  2439.6      3415.0               0                0   \n",
       "1       2007  1626.4      2277.0               0                0   \n",
       "2       2008  4147.0      3060.0               0                0   \n",
       "3       2008  4147.0      2660.0               0                0   \n",
       "4       2009  4153.0      3120.0               0                0   \n",
       "\n",
       "   cat_state_North-East  cat_state_South  cat_state_West  Season_Kharif       \\\n",
       "0                     0                0               0                   1   \n",
       "1                     0                0               0                   0   \n",
       "2                     0                0               0                   0   \n",
       "3                     0                0               0                   0   \n",
       "4                     0                0               0                   0   \n",
       "\n",
       "   Season_Rabi         ...  cat_crop_Commercial  cat_crop_Fertile Plant  \\\n",
       "0                   0  ...                    0                       0   \n",
       "1                   1  ...                    0                       0   \n",
       "2                   0  ...                    0                       0   \n",
       "3                   0  ...                    0                       0   \n",
       "4                   0  ...                    0                       0   \n",
       "\n",
       "   cat_crop_Fruits  cat_crop_Nuts  cat_crop_Oilseeds  cat_crop_Pulses  \\\n",
       "0                0              1                  0                0   \n",
       "1                0              1                  0                0   \n",
       "2                0              1                  0                0   \n",
       "3                0              1                  0                0   \n",
       "4                0              1                  0                0   \n",
       "\n",
       "   cat_crop_Species  cat_crop_Sugarcane  cat_crop_Vegetables  cat_crop_fibres  \n",
       "0                 0                   0                    0                0  \n",
       "1                 0                   0                    0                0  \n",
       "2                 0                   0                    0                0  \n",
       "3                 0                   0                    0                0  \n",
       "4                 0                   0                    0                0  \n",
       "\n",
       "[5 rows x 24 columns]"
      ]
     },
     "execution_count": 70,
     "metadata": {},
     "output_type": "execute_result"
    }
   ],
   "source": [
    "crop_2_dummy.head()"
   ]
  },
  {
   "cell_type": "code",
   "execution_count": 71,
   "id": "f659c605",
   "metadata": {},
   "outputs": [
    {
     "data": {
      "text/plain": [
       "Index(['Crop_Year', 'Area ', 'Production', 'cat_state_East', 'cat_state_North',\n",
       "       'cat_state_North-East', 'cat_state_South', 'cat_state_West',\n",
       "       'Season_Kharif     ', 'Season_Rabi       ', 'Season_Summer     ',\n",
       "       'Season_Whole Year ', 'Season_Winter     ', 'cat_crop_Cereal',\n",
       "       'cat_crop_Commercial', 'cat_crop_Fertile Plant', 'cat_crop_Fruits',\n",
       "       'cat_crop_Nuts', 'cat_crop_Oilseeds', 'cat_crop_Pulses',\n",
       "       'cat_crop_Species', 'cat_crop_Sugarcane', 'cat_crop_Vegetables',\n",
       "       'cat_crop_fibres'],\n",
       "      dtype='object')"
      ]
     },
     "execution_count": 71,
     "metadata": {},
     "output_type": "execute_result"
    }
   ],
   "source": [
    "crop_2_dummy.columns"
   ]
  },
  {
   "cell_type": "code",
   "execution_count": 72,
   "id": "21f55d12",
   "metadata": {},
   "outputs": [],
   "source": [
    "# splitting data into train and test \n",
    "trainx1, testx1, trainy1,testy1 = splitdata(crop_2_dummy, 'Production')"
   ]
  },
  {
   "cell_type": "code",
   "execution_count": 73,
   "id": "544fa994",
   "metadata": {},
   "outputs": [
    {
     "name": "stdout",
     "output_type": "stream",
     "text": [
      "trainx1 : (238268, 23)\n",
      "trainy1 : (238268,)\n",
      "testx1 : (102115, 23)\n",
      "testy1 : (102115,)\n"
     ]
    }
   ],
   "source": [
    "print(\"trainx1 :\",trainx1.shape)\n",
    "print(\"trainy1 :\",trainy1.shape)\n",
    "\n",
    "print(\"testx1 :\",testx1.shape)\n",
    "print(\"testy1 :\",testy1.shape)"
   ]
  },
  {
   "cell_type": "code",
   "execution_count": 76,
   "id": "9c666d20",
   "metadata": {},
   "outputs": [
    {
     "data": {
      "text/plain": [
       "RandomForestRegressor()"
      ]
     },
     "execution_count": 76,
     "metadata": {},
     "output_type": "execute_result"
    }
   ],
   "source": [
    "# model building\n",
    "model8 = RandomForestRegressor()\n",
    "model8.fit(trainx1,trainy1)"
   ]
  },
  {
   "cell_type": "code",
   "execution_count": 77,
   "id": "94e6e212",
   "metadata": {},
   "outputs": [
    {
     "name": "stdout",
     "output_type": "stream",
     "text": [
      "model RandomForest Regressor \n",
      "\tmse = 97932758403420.55, \n",
      "\trmse = 9896098.14, \n",
      "\tr2_score= 0.7997822692223173\n"
     ]
    }
   ],
   "source": [
    "# predictions \n",
    "pred8 = model8.predict(testx1)\n",
    "\n",
    "# Evaluation\n",
    "mse8 = mean_squared_error(testy1,pred8)\n",
    "r8= r2_score(testy1,pred8)\n",
    "print(\"model RandomForest Regressor \\n\\tmse = {}, \\n\\trmse = {}, \\n\\tr2_score= {}\".format(round(mse8,2),round(np.sqrt(mse8),2),r8))"
   ]
  },
  {
   "cell_type": "markdown",
   "id": "197efd61",
   "metadata": {},
   "source": [
    "* The process of reducing the levels in crop and states has not worked well.\n",
    "* It has reduced our model performance "
   ]
  },
  {
   "cell_type": "markdown",
   "id": "9dc037b9",
   "metadata": {},
   "source": [
    "### Model Performance Evaluation\n",
    "We cannot calculate accuracy for a regression model.\n",
    "\n",
    "The skill or performance of a regression model must be reported as an error in those predictions. There are three error metrics that are commonly used for evaluating and reporting the performance of a regression model, they are:\n",
    "\n",
    "* Coefficent of Determination (***R2***)\n",
    "* Root Mean Squared Error (***RMSE***).\n",
    "* Mean Absolute Error (***MAE***)\n",
    "\n",
    "> I have taken 'RMSE' and 'R2' as evaluation criteria for models in this Notebook\n",
    "\n",
    "* Coefficent of Determination\n",
    "The coefficient of determination, R2, is used to analyze how differences in one variable can be explained by a difference in a second variable.\n",
    "![R2 SCORE](https://images.contentful.com/piwi0eufbb2g/7IvlOo4odCmDVSZST2rMzs/07cfe008434a011d1fbec38387fc9234/image.png)\n",
    " \n",
    "* Root Mean Squared Error\n",
    "The Root Mean Squared Error, or RMSE, is an extension of the mean squared error.\n",
    "Importantly, the square root of the error is calculated, which means that the units of the RMSE are the same as the original units of the target value that is being predicted.\n",
    "As such, it may be common to use RMSE to evaluate and report its performance.\n",
    "\n",
    "The RMSE can be calculated as follows:\n",
    "![RMSE](https://images.contentful.com/piwi0eufbb2g/1Jv6fvhF9BLCFEjnPsnCG6/33512a6c71c3268295b8bd787c3952cf/image.png)\n",
    "\n",
    "We can restate the RMSE in terms of the MSE as:\n",
    "![MSE](https://images.contentful.com/piwi0eufbb2g/2eSAc5PQTXa6y1mm6BN6Ne/1b7c27f4d75bd79e83910e3a2ff4be59/image.png)\n",
    "\n",
    "### Results "
   ]
  },
  {
   "cell_type": "code",
   "execution_count": 78,
   "id": "6cfe72ce",
   "metadata": {},
   "outputs": [
    {
     "data": {
      "text/html": [
       "<div>\n",
       "<style scoped>\n",
       "    .dataframe tbody tr th:only-of-type {\n",
       "        vertical-align: middle;\n",
       "    }\n",
       "\n",
       "    .dataframe tbody tr th {\n",
       "        vertical-align: top;\n",
       "    }\n",
       "\n",
       "    .dataframe thead th {\n",
       "        text-align: right;\n",
       "    }\n",
       "</style>\n",
       "<table border=\"1\" class=\"dataframe\">\n",
       "  <thead>\n",
       "    <tr style=\"text-align: right;\">\n",
       "      <th></th>\n",
       "      <th>Algorithm</th>\n",
       "      <th>r2_score</th>\n",
       "    </tr>\n",
       "  </thead>\n",
       "  <tbody>\n",
       "    <tr>\n",
       "      <th>0</th>\n",
       "      <td>LinearRegression</td>\n",
       "      <td>0.226581</td>\n",
       "    </tr>\n",
       "    <tr>\n",
       "      <th>1</th>\n",
       "      <td>DecisionTreeRegressor</td>\n",
       "      <td>0.923590</td>\n",
       "    </tr>\n",
       "    <tr>\n",
       "      <th>2</th>\n",
       "      <td>RandomForestRegressor</td>\n",
       "      <td>0.941825</td>\n",
       "    </tr>\n",
       "    <tr>\n",
       "      <th>3</th>\n",
       "      <td>AdaBoostRegressor RandomForest as base model</td>\n",
       "      <td>0.593816</td>\n",
       "    </tr>\n",
       "    <tr>\n",
       "      <th>4</th>\n",
       "      <td>AdaBoostRegressor DecisionTree as base model</td>\n",
       "      <td>0.576665</td>\n",
       "    </tr>\n",
       "    <tr>\n",
       "      <th>5</th>\n",
       "      <td>GradientBoostingRegressor</td>\n",
       "      <td>0.938196</td>\n",
       "    </tr>\n",
       "    <tr>\n",
       "      <th>6</th>\n",
       "      <td>XGboost Regressor</td>\n",
       "      <td>0.941793</td>\n",
       "    </tr>\n",
       "  </tbody>\n",
       "</table>\n",
       "</div>"
      ],
      "text/plain": [
       "                                      Algorithm  r2_score\n",
       "0                              LinearRegression  0.226581\n",
       "1                         DecisionTreeRegressor  0.923590\n",
       "2                         RandomForestRegressor  0.941825\n",
       "3  AdaBoostRegressor RandomForest as base model  0.593816\n",
       "4  AdaBoostRegressor DecisionTree as base model  0.576665\n",
       "5                     GradientBoostingRegressor  0.938196\n",
       "6                             XGboost Regressor  0.941793"
      ]
     },
     "execution_count": 78,
     "metadata": {},
     "output_type": "execute_result"
    }
   ],
   "source": [
    "# Create a dataframe to store the results \n",
    "data= [['LinearRegression',r],['DecisionTreeRegressor',r2],\n",
    "       ['RandomForestRegressor',r3],\n",
    "       ['AdaBoostRegressor RandomForest as base model', r4],['AdaBoostRegressor DecisionTree as base model', r5],\n",
    "       ['GradientBoostingRegressor',r6],\n",
    "       ['XGboost Regressor',r7]]\n",
    "df = pd.DataFrame(data=data,columns=['Algorithm','r2_score'])\n",
    "df"
   ]
  },
  {
   "cell_type": "code",
   "execution_count": 79,
   "id": "43466e94",
   "metadata": {},
   "outputs": [
    {
     "data": {
      "text/plain": [
       "<AxesSubplot:xlabel='Production'>"
      ]
     },
     "execution_count": 79,
     "metadata": {},
     "output_type": "execute_result"
    },
    {
     "data": {
      "image/png": "[encoded data removed]",
      "text/plain": [
       "<Figure size 864x576 with 1 Axes>"
      ]
     },
     "metadata": {
      "needs_background": "light"
     },
     "output_type": "display_data"
    }
   ],
   "source": [
    "## chart that shows actual and predicted values- regplot for random forest \n",
    "plt.figure(figsize= (12,8))\n",
    "sns.regplot(testy, pred3, marker= \".\", color= \"green\", line_kws= {'color':'red'})"
   ]
  },
  {
   "cell_type": "markdown",
   "id": "eadd1d1e",
   "metadata": {},
   "source": [
    "### Conclusion"
   ]
  },
  {
   "cell_type": "markdown",
   "id": "4fba4522",
   "metadata": {},
   "source": [
    " 1. Decisi0n Tree Regressor has given the best r2_score but the predictions seems to be grouped\n",
    " 2. Hence Random Forest is the best model for this problem \n",
    " 3. Random Forest has given an r2_score of 94.1825\n",
    " 4. All the boosting models have given almost equal score \n",
    " 5. Reducing the levels in crop and state has reduced the model performance "
   ]
  },
  {
   "cell_type": "code",
   "execution_count": null,
   "id": "c68fb191",
   "metadata": {},
   "outputs": [],
   "source": []
  },
  {
   "cell_type": "code",
   "execution_count": null,
   "id": "725af3c9",
   "metadata": {},
   "outputs": [],
   "source": []
  }
 ],
 "metadata": {
  "kernelspec": {
   "display_name": "Python 3 (ipykernel)",
   "language": "python",
   "name": "python3"
  },
  "language_info": {
   "codemirror_mode": {
    "name": "ipython",
    "version": 3
   },
   "file_extension": ".py",
   "mimetype": "text/x-python",
   "name": "python",
   "nbconvert_exporter": "python",
   "pygments_lexer": "ipython3",
   "version": "3.9.12"
  }
 },
 "nbformat": 4,
 "nbformat_minor": 5
}
